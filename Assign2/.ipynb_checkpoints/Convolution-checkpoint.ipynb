{
 "cells": [
  {
   "cell_type": "code",
   "execution_count": 8,
   "metadata": {
    "collapsed": false
   },
   "outputs": [
    {
     "name": "stdout",
     "output_type": "stream",
     "text": [
      "Assignment 2 - problem 2\n"
     ]
    }
   ],
   "source": [
    "print(\"Assignment 2 - problem 2\")"
   ]
  },
  {
   "cell_type": "code",
   "execution_count": 3,
   "metadata": {
    "collapsed": true
   },
   "outputs": [],
   "source": [
    "from scipy import signal\n",
    "import numpy as np"
   ]
  },
  {
   "cell_type": "code",
   "execution_count": 25,
   "metadata": {
    "collapsed": true
   },
   "outputs": [],
   "source": [
    "sig = np.array([[3,1,5,1,5],[9,2,6,5,3],[5,8,9,7,9],[3,2,3,8,4],[6,2,6,4,3]])"
   ]
  },
  {
   "cell_type": "code",
   "execution_count": 26,
   "metadata": {
    "collapsed": true
   },
   "outputs": [],
   "source": [
    "kernel = np.array([[3,8,3], [2,7,9], [5,0,2]])"
   ]
  },
  {
   "cell_type": "code",
   "execution_count": 31,
   "metadata": {
    "collapsed": false
   },
   "outputs": [],
   "source": [
    "filtered = signal.convolve(sig, kernel, mode='valid')"
   ]
  },
  {
   "cell_type": "code",
   "execution_count": 29,
   "metadata": {
    "collapsed": false
   },
   "outputs": [
    {
     "name": "stdout",
     "output_type": "stream",
     "text": [
      "[[244 194 240]\n",
      " [201 232 260]\n",
      " [154 172 213]]\n"
     ]
    }
   ],
   "source": [
    "print(filtered)"
   ]
  },
  {
   "cell_type": "code",
   "execution_count": 22,
   "metadata": {
    "collapsed": false
   },
   "outputs": [
    {
     "name": "stdout",
     "output_type": "stream",
     "text": [
      "[[2 0 5]\n",
      " [9 7 2]\n",
      " [3 8 3]]\n"
     ]
    }
   ],
   "source": [
    "rotated_kernel = (np.rot90(kernel, 2))\n",
    "\n",
    "print(rotated_kernel)"
   ]
  },
  {
   "cell_type": "code",
   "execution_count": 23,
   "metadata": {
    "collapsed": false
   },
   "outputs": [
    {
     "data": {
      "text/plain": [
       "array([[  2.,   2.,   7.,   5.,   5.],\n",
       "       [ 11.,  18.,  25.,  14.,   7.],\n",
       "       [ 14.,  29.,  39.,  25.,  10.],\n",
       "       [ 12.,  27.,  32.,  20.,   5.],\n",
       "       [  3.,  11.,  14.,  11.,   3.]])"
      ]
     },
     "execution_count": 23,
     "metadata": {},
     "output_type": "execute_result"
    }
   ],
   "source": [
    "gradient = np.ones((3,3))\n",
    "\n",
    "signal.convolve(gradient, rotated_kernel, mode='full')"
   ]
  },
  {
   "cell_type": "code",
   "execution_count": 21,
   "metadata": {
    "collapsed": false
   },
   "outputs": [
    {
     "name": "stdout",
     "output_type": "stream",
     "text": [
      "problem 5b\n",
      "convolution: [[ 161.  191.  175.]\n",
      " [ 229.  237.  238.]\n",
      " [ 195.  232.  244.]]\n",
      "problem 5c\n",
      "input error grad:\n",
      " [[ 1.  1.  1.]\n",
      " [ 1.  1.  1.]\n",
      " [ 1.  1.  1.]]\n",
      "flipped kernel:\n",
      " [[2 0 5]\n",
      " [9 7 2]\n",
      " [3 8 3]]\n",
      "output error:\n",
      ": [[  3.  11.  14.  11.   3.]\n",
      " [  5.  20.  32.  27.  12.]\n",
      " [ 10.  25.  39.  29.  14.]\n",
      " [  7.  14.  25.  18.  11.]\n",
      " [  5.   5.   7.   2.   2.]]\n"
     ]
    }
   ],
   "source": [
    "import numpy as np\n",
    "\n",
    "# args are two 2d numpy arrays. kernel must be smaller than input.\n",
    "def convolution(input, kernel):\n",
    "    result = np.zeros((np.shape(input)[0] - np.shape(kernel)[0] + 1,\n",
    "                       np.shape(input)[1] - np.shape(kernel)[1] + 1))\n",
    "    for i in range(np.shape(result)[0]):\n",
    "        for j in range(np.shape(result)[1]):\n",
    "            input_window = input[i:i+np.shape(kernel)[0], j:j+np.shape(kernel)[1]]\n",
    "            result[i][j] = np.sum(input_window * kernel)\n",
    "    return result\n",
    "\n",
    "print('problem 5b')\n",
    "input = np.array([[4,5,2,2,1],[3,3,2,2,4],[4,3,4,1,1],[5,1,4,1,2],[5,1,3,1,4]])\n",
    "sig = np.array([[3,1,5,1,5],[9,2,6,5,3],[5,8,9,7,9],[3,2,3,8,4],[6,2,6,4,3]])\n",
    "\n",
    "\n",
    "# print ()'input:\\n', input\n",
    "# kernel = np.array([[4,3,3],[5,5,5],[2,4,3]])\n",
    "# print 'kernel:\\n', kernel\n",
    "kernel = np.array([[3,8,3], [2,7,9], [5,0,2]])\n",
    "\n",
    "print ('convolution:', convolution(sig, kernel))\n",
    "\n",
    "print('problem 5c')\n",
    "input_error = np.ones((3,3))\n",
    "print ('input error grad:\\n', input_error)\n",
    "padded_input_error = np.lib.pad(input_error, 2, 'constant')\n",
    "print ('flipped kernel:\\n', np.rot90(kernel, 2))\n",
    "print ('output error:\\n:', convolution(padded_input_error,np.rot90(kernel, 2)))"
   ]
  },
  {
   "cell_type": "code",
   "execution_count": null,
   "metadata": {
    "collapsed": true
   },
   "outputs": [],
   "source": []
  }
 ],
 "metadata": {
  "anaconda-cloud": {},
  "kernelspec": {
   "display_name": "Python [conda env:dlpy35]",
   "language": "python",
   "name": "conda-env-dlpy35-py"
  },
  "language_info": {
   "codemirror_mode": {
    "name": "ipython",
    "version": 3
   },
   "file_extension": ".py",
   "mimetype": "text/x-python",
   "name": "python",
   "nbconvert_exporter": "python",
   "pygments_lexer": "ipython3",
   "version": "3.5.2"
  }
 },
 "nbformat": 4,
 "nbformat_minor": 1
}

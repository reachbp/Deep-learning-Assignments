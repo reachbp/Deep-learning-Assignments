{
 "cells": [
  {
   "cell_type": "code",
   "execution_count": 1,
   "metadata": {
    "collapsed": true
   },
   "outputs": [],
   "source": [
    "from __future__ import print_function\n",
    "import pickle \n",
    "import numpy as np\n",
    "import argparse\n",
    "import torch\n",
    "import torch.nn as nn\n",
    "import torch.nn.functional as F\n",
    "import torch.optim as optim\n",
    "from torchvision import datasets, transforms\n",
    "from torch.autograd import Variable"
   ]
  },
  {
   "cell_type": "markdown",
   "metadata": {},
   "source": [
    "# Split Data"
   ]
  },
  {
   "cell_type": "code",
   "execution_count": 2,
   "metadata": {
    "collapsed": true
   },
   "outputs": [],
   "source": [
    "transform=transforms.Compose([transforms.ToTensor(),\n",
    "                              transforms.Normalize((0.1307,), (0.3081,))\n",
    "                             ])"
   ]
  },
  {
   "cell_type": "markdown",
   "metadata": {},
   "source": [
    "# Train Model"
   ]
  },
  {
   "cell_type": "code",
   "execution_count": 3,
   "metadata": {
    "collapsed": false
   },
   "outputs": [],
   "source": [
    "# train_loader = torch.utils.data.DataLoader(trainset_new, batch_size=64, shuffle=True)\n",
    "# valid_loader = torch.utils.data.DataLoader(validset, batch_size=64, shuffle=True)"
   ]
  },
  {
   "cell_type": "code",
   "execution_count": 4,
   "metadata": {
    "collapsed": false
   },
   "outputs": [
    {
     "name": "stdout",
     "output_type": "stream",
     "text": [
      "Files already downloaded\n",
      "3000\n",
      "750\n"
     ]
    }
   ],
   "source": [
    "trainset_imoprt = pickle.load(open(\"../data/kaggle/train_labeled.p\", \"rb\"))\n",
    "validset_import = pickle.load(open(\"../data/kaggle/validation.p\", \"rb\"))"
   ]
  },
  {
   "cell_type": "code",
   "execution_count": 5,
   "metadata": {
    "collapsed": false
   },
   "outputs": [],
   "source": [
    "train_loader = torch.utils.data.DataLoader(trainset_imoprt, batch_size=64, shuffle=True)\n",
    "valid_loader = torch.utils.data.DataLoader(validset_import, batch_size=64, shuffle=True)"
   ]
  },
  {
   "cell_type": "code",
   "execution_count": 54,
   "metadata": {
    "collapsed": false
   },
   "outputs": [
    {
     "name": "stdout",
     "output_type": "stream",
     "text": [
      "torch.Size([64, 10])\n"
     ]
    }
   ],
   "source": [
    "class VAE(nn.Module):\n",
    "    def __init__(self):\n",
    "        super(VAE, self).__init__()\n",
    "\n",
    "        \n",
    "        self.conv1 = nn.Conv2d(1, 10, kernel_size=5)\n",
    "        self.conv2 = nn.Conv2d(10, 20, kernel_size=5)\n",
    "        self.conv2_drop = nn.Dropout2d(0.3)\n",
    "        self.classfc1 = nn.Linear(320, 160)\n",
    "        self.classfc2 = nn.Linear(160, 10)\n",
    "        self.classfc3 = nn.Linear(80, 10)\n",
    "        \n",
    "        \n",
    "        self.fc1 = nn.Linear(784, 400)\n",
    "        self.fc21 = nn.Linear(400, 10)\n",
    "        self.fc22 = nn.Linear(400, 10)\n",
    "        self.fc3 = nn.Linear(10, 400)\n",
    "        self.fc4 = nn.Linear(400, 784)\n",
    "\n",
    "        self.relu = nn.ReLU()\n",
    "        self.sigmoid = nn.Sigmoid()\n",
    "\n",
    "    def encode(self, x):\n",
    "        h1 = self.relu(self.fc1(x))\n",
    "        return self.fc21(h1), self.fc22(h1)\n",
    "\n",
    "    def reparametrize(self, mu, logvar):\n",
    "        std = logvar.mul(0.5).exp_()\n",
    "        if False:\n",
    "            eps = torch.cuda.FloatTensor(std.size()).normal_()\n",
    "        else:\n",
    "            eps = torch.FloatTensor(std.size()).normal_()\n",
    "        eps = Variable(eps)\n",
    "        return eps.mul(std).add_(mu)\n",
    "\n",
    "    def classify(self, x):\n",
    "        #print(\"input size in classifiy\", x.size())\n",
    "        x = x.view(-1, 1, 28,28)\n",
    "        x = F.relu(F.max_pool2d(self.conv1(x), 2))\n",
    "        x = F.relu(F.max_pool2d(self.conv2_drop(self.conv2(x)), 2))\n",
    "        x = x.view(-1, 320)\n",
    "        x = F.relu(self.classfc1(x))\n",
    "        x = F.dropout(x, training=self.training)\n",
    "        x = F.relu(self.classfc2(x))\n",
    "        return x\n",
    "        \n",
    "    def decode(self, z):\n",
    "        h3 = self.relu(self.fc3(z))\n",
    "        return self.sigmoid(self.fc4(h3))\n",
    "\n",
    "    def forward(self, x):\n",
    "        mu, logvar = self.encode(x.view(-1, 784))\n",
    "        \n",
    "        z = self.reparametrize(mu, logvar)\n",
    "        return self.decode(z), mu, logvar, self.classify(self.decode(z))\n",
    "\n",
    "\n",
    "model = VAE()\n",
    "input = Variable(torch.Tensor(1,64,28,28))\n",
    "_,_,_,output = model(input)\n",
    "print(output.size())"
   ]
  },
  {
   "cell_type": "code",
   "execution_count": 55,
   "metadata": {
    "collapsed": false
   },
   "outputs": [],
   "source": [
    "reconstruction_function = nn.MSELoss()\n",
    "reconstruction_function.size_average = False\n",
    "\n",
    "\n",
    "def loss_function(recon_x, x, mu, logvar):\n",
    "    BCE = reconstruction_function(recon_x, x)\n",
    "\n",
    "    # see Appendix B from VAE paper:\n",
    "    # Kingma and Welling. Auto-Encoding Variational Bayes. ICLR, 2014\n",
    "    # https://arxiv.org/abs/1312.6114\n",
    "    # 0.5 * sum(1 + log(sigma^2) - mu^2 - sigma^2)\n",
    "    KLD_element = mu.pow(2).add_(logvar.exp()).mul_(-1).add_(1).add_(logvar)\n",
    "    KLD = torch.sum(KLD_element).mul_(-0.5)\n",
    "\n",
    "    return BCE + KLD\n",
    "\n",
    "\n",
    "optimizer = optim.Adam(model.parameters(), lr=0.001)\n",
    "\n"
   ]
  },
  {
   "cell_type": "code",
   "execution_count": 58,
   "metadata": {
    "collapsed": false
   },
   "outputs": [],
   "source": [
    "# CPU only training\n",
    "def generate_train(epoch):\n",
    "    model.train()\n",
    "    train_loss = 0\n",
    "    for batch_idx, (data, target) in enumerate(train_loader):\n",
    "        data, target = Variable(data), Variable(target)\n",
    "        optimizer.zero_grad()\n",
    "        recon_batch, mu, logvar, output = model(data)\n",
    "        output = F.log_softmax(output)\n",
    "    \n",
    "        loss = loss_function(recon_batch, data, mu, logvar) +  F.nll_loss(output, target)\n",
    "        loss.backward()\n",
    "        \n",
    "        train_loss += loss.data[0]\n",
    "        optimizer.step()\n",
    "        if batch_idx % 100 == 0:\n",
    "            print('Train Epoch: {} [{}/{} ({:.0f}%)]\\tLoss: {:.6f}'.format(\n",
    "                epoch, batch_idx * len(data), len(train_loader.dataset),\n",
    "                100. * batch_idx / len(train_loader),\n",
    "                loss.data[0] / len(data)))\n",
    "\n",
    "    print('====> Epoch: {} Average loss: {:.4f}'.format(\n",
    "          epoch, train_loss / len(train_loader.dataset)))\n",
    "\n",
    "    \n",
    "def generate_test(epoch, test_loader):\n",
    "    model.eval()\n",
    "    test_loss = 0\n",
    "    correct = 0\n",
    "    for data, target in test_loader:\n",
    "        data, target = Variable(data, volatile=True), Variable(target, volatile=True)\n",
    "        recon_batch, mu, logvar, output = model(data)\n",
    "        output = F.log_softmax(output)\n",
    "       \n",
    "        test_loss += F.nll_loss(output, target).data[0]\n",
    "        pred = output.data.max(1)[1] # get the index of the max log-probability\n",
    "        correct += pred.eq(target.data).cpu().sum()\n",
    "    test_loss /= len(test_loader.dataset)\n",
    "    print('\\nTest set: Average loss: {:.4f}, Accuracy: {}/{} ({:.0f}%)\\n'.format(\n",
    "        test_loss, correct, len(test_loader.dataset),\n",
    "        100. * correct / len(test_loader.dataset)))\n",
    "\n"
   ]
  },
  {
   "cell_type": "code",
   "execution_count": null,
   "metadata": {
    "collapsed": false,
    "scrolled": false
   },
   "outputs": [
    {
     "name": "stdout",
     "output_type": "stream",
     "text": [
      "Train Epoch: 1 [0/3000 (0%)]\tLoss: 528.861938\n",
      "====> Epoch: 1 Average loss: 520.0277\n",
      "\n",
      "Test set: Average loss: 0.0164, Accuracy: 6800/10000 (68%)\n",
      "\n",
      "Images generated\n",
      "Train Epoch: 2 [0/3000 (0%)]\tLoss: 480.857849\n",
      "====> Epoch: 2 Average loss: 504.9849\n"
     ]
    }
   ],
   "source": [
    "#Generative phase\n",
    "for epoch in range(1, 100):\n",
    "    generate_train(epoch)\n",
    "    generate_test(epoch, valid_loader)\n",
    "    generate_images()"
   ]
  },
  {
   "cell_type": "code",
   "execution_count": 60,
   "metadata": {
    "collapsed": false
   },
   "outputs": [],
   "source": [
    "# Check generated images\n",
    "def generate_images():\n",
    "    from  torchvision.utils import save_image\n",
    "    for index, (data, target) in enumerate(train_loader):\n",
    "        data, target = Variable(data), Variable(target)\n",
    "        gen_data, mu, logvar, _ = model(data)\n",
    "        gen_images = gen_data.view(-1, 1,28,28)\n",
    "        #print(data[0])\n",
    "        save_image(gen_images.data, 'images/1gen{}.jpg'.format(index))\n",
    "        save_image(data.data, 'images/1orgin{}.jpg'.format(index))\n",
    "    print(\"Images generated\")"
   ]
  },
  {
   "cell_type": "code",
   "execution_count": 156,
   "metadata": {
    "collapsed": true
   },
   "outputs": [],
   "source": [
    "# CPU only training\n",
    "optimizer = optim.SGD(model.parameters(), lr=0.005, momentum=0.8)\n",
    "def train(epoch):\n",
    "    classifier.train()\n",
    "    for batch_idx, (data, target) in enumerate(train_loader):\n",
    "\n",
    "        data, target = Variable(data), Variable(target)\n",
    "        gen_data, mu, logvar = model(data)\n",
    "        #Check reconstruction loss \n",
    "        recon_loss = reconstruction_function(gen_data, data)\n",
    "        #print(\"Reconstruction loss is\", recon_loss)\n",
    "        #print(\"Type of generated data\", type(gen_data))\n",
    "        \n",
    "        optimizer.zero_grad()\n",
    "        output = classifier(gen_data)\n",
    "        loss = F.nll_loss(output, target)\n",
    "        loss.backward()\n",
    "        optimizer.step()\n",
    "        if batch_idx % 10 == 0:\n",
    "            print('Train Epoch: {} [{}/{} ({:.0f}%)]\\tLoss: {:.6f}'.format(\n",
    "                epoch, batch_idx * len(data), len(train_loader.dataset),\n",
    "                100. * batch_idx / len(train_loader), loss.data[0]))\n",
    "\n",
    "def test(epoch, valid_loader):\n",
    "    classifier.eval()\n",
    "    test_loss = 0\n",
    "    correct = 0\n",
    "    for data, target in valid_loader:\n",
    "        data, target = Variable(data, volatile=True), Variable(target)\n",
    "        gen_data, mu, logvar = model(data)\n",
    "        output = classifier(gen_data)\n",
    "        test_loss += F.nll_loss(output, target).data[0]\n",
    "        pred = output.data.max(1)[1] # get the index of the max log-probability\n",
    "        correct += pred.eq(target.data).cpu().sum()\n",
    "\n",
    "    test_loss /= len(valid_loader) # loss function already averages over batch size\n",
    "    print('\\nTest set: Average loss: {:.4f}, Accuracy: {}/{} ({:.0f}%)\\n'.format(\n",
    "        test_loss, correct, len(valid_loader.dataset),\n",
    "        100. * correct / len(valid_loader.dataset)))\n",
    "    \n"
   ]
  },
  {
   "cell_type": "code",
   "execution_count": 157,
   "metadata": {
    "collapsed": false
   },
   "outputs": [
    {
     "name": "stdout",
     "output_type": "stream",
     "text": [
      "Train Epoch: 1 [0/3000 (0%)]\tLoss: 2.303313\n",
      "Train Epoch: 1 [640/3000 (21%)]\tLoss: 2.299531\n",
      "Train Epoch: 1 [1280/3000 (43%)]\tLoss: 2.311447\n",
      "Train Epoch: 1 [1920/3000 (64%)]\tLoss: 2.304488\n",
      "Train Epoch: 1 [2560/3000 (85%)]\tLoss: 2.315426\n",
      "\n",
      "Test set: Average loss: 2.3043, Accuracy: 949/10000 (9%)\n",
      "\n",
      "Train Epoch: 2 [0/3000 (0%)]\tLoss: 2.296243\n",
      "Train Epoch: 2 [640/3000 (21%)]\tLoss: 2.302421\n",
      "Train Epoch: 2 [1280/3000 (43%)]\tLoss: 2.302147\n",
      "Train Epoch: 2 [1920/3000 (64%)]\tLoss: 2.301919\n",
      "Train Epoch: 2 [2560/3000 (85%)]\tLoss: 2.304081\n",
      "\n",
      "Test set: Average loss: 2.3043, Accuracy: 948/10000 (9%)\n",
      "\n",
      "Train Epoch: 3 [0/3000 (0%)]\tLoss: 2.303864\n",
      "Train Epoch: 3 [640/3000 (21%)]\tLoss: 2.303399\n",
      "Train Epoch: 3 [1280/3000 (43%)]\tLoss: 2.308649\n",
      "Train Epoch: 3 [1920/3000 (64%)]\tLoss: 2.307373\n",
      "Train Epoch: 3 [2560/3000 (85%)]\tLoss: 2.313890\n",
      "\n",
      "Test set: Average loss: 2.3041, Accuracy: 951/10000 (10%)\n",
      "\n",
      "Train Epoch: 4 [0/3000 (0%)]\tLoss: 2.306673\n",
      "Train Epoch: 4 [640/3000 (21%)]\tLoss: 2.310776\n",
      "Train Epoch: 4 [1280/3000 (43%)]\tLoss: 2.298822\n",
      "Train Epoch: 4 [1920/3000 (64%)]\tLoss: 2.305757\n",
      "Train Epoch: 4 [2560/3000 (85%)]\tLoss: 2.310771\n",
      "\n",
      "Test set: Average loss: 2.3042, Accuracy: 955/10000 (10%)\n",
      "\n",
      "Train Epoch: 5 [0/3000 (0%)]\tLoss: 2.304310\n",
      "Train Epoch: 5 [640/3000 (21%)]\tLoss: 2.299248\n",
      "Train Epoch: 5 [1280/3000 (43%)]\tLoss: 2.301275\n",
      "Train Epoch: 5 [1920/3000 (64%)]\tLoss: 2.309110\n",
      "Train Epoch: 5 [2560/3000 (85%)]\tLoss: 2.306186\n",
      "\n",
      "Test set: Average loss: 2.3040, Accuracy: 952/10000 (10%)\n",
      "\n",
      "Train Epoch: 6 [0/3000 (0%)]\tLoss: 2.306867\n",
      "Train Epoch: 6 [640/3000 (21%)]\tLoss: 2.302677\n",
      "Train Epoch: 6 [1280/3000 (43%)]\tLoss: 2.302647\n",
      "Train Epoch: 6 [1920/3000 (64%)]\tLoss: 2.303769\n",
      "Train Epoch: 6 [2560/3000 (85%)]\tLoss: 2.302253\n",
      "\n",
      "Test set: Average loss: 2.3040, Accuracy: 952/10000 (10%)\n",
      "\n",
      "Train Epoch: 7 [0/3000 (0%)]\tLoss: 2.295228\n",
      "Train Epoch: 7 [640/3000 (21%)]\tLoss: 2.312875\n",
      "Train Epoch: 7 [1280/3000 (43%)]\tLoss: 2.297070\n",
      "Train Epoch: 7 [1920/3000 (64%)]\tLoss: 2.305536\n",
      "Train Epoch: 7 [2560/3000 (85%)]\tLoss: 2.310316\n",
      "\n",
      "Test set: Average loss: 2.3038, Accuracy: 954/10000 (10%)\n",
      "\n",
      "Train Epoch: 8 [0/3000 (0%)]\tLoss: 2.313638\n",
      "Train Epoch: 8 [640/3000 (21%)]\tLoss: 2.306834\n",
      "Train Epoch: 8 [1280/3000 (43%)]\tLoss: 2.304351\n",
      "Train Epoch: 8 [1920/3000 (64%)]\tLoss: 2.309371\n",
      "Train Epoch: 8 [2560/3000 (85%)]\tLoss: 2.302615\n",
      "\n",
      "Test set: Average loss: 2.3037, Accuracy: 951/10000 (10%)\n",
      "\n",
      "Train Epoch: 9 [0/3000 (0%)]\tLoss: 2.301514\n",
      "Train Epoch: 9 [640/3000 (21%)]\tLoss: 2.308340\n",
      "Train Epoch: 9 [1280/3000 (43%)]\tLoss: 2.313092\n",
      "Train Epoch: 9 [1920/3000 (64%)]\tLoss: 2.305234\n",
      "Train Epoch: 9 [2560/3000 (85%)]\tLoss: 2.315604\n",
      "\n",
      "Test set: Average loss: 2.3036, Accuracy: 949/10000 (9%)\n",
      "\n"
     ]
    }
   ],
   "source": [
    "#Classification phase\n",
    "for epoch in range(1, 10):\n",
    "    train(epoch)\n",
    "    test(epoch, valid_loader)"
   ]
  },
  {
   "cell_type": "markdown",
   "metadata": {},
   "source": [
    "# Create Sample Submission"
   ]
  },
  {
   "cell_type": "code",
   "execution_count": 59,
   "metadata": {
    "collapsed": false
   },
   "outputs": [],
   "source": [
    "testset = pickle.load(open(\"../data/kaggle/test.p\", \"rb\"))"
   ]
  },
  {
   "cell_type": "code",
   "execution_count": null,
   "metadata": {
    "collapsed": false
   },
   "outputs": [],
   "source": []
  },
  {
   "cell_type": "code",
   "execution_count": 60,
   "metadata": {
    "collapsed": false
   },
   "outputs": [],
   "source": [
    "test_loader = torch.utils.data.DataLoader(testset,batch_size=64, shuffle=False)"
   ]
  },
  {
   "cell_type": "markdown",
   "metadata": {},
   "source": [
    "## Test Accuuracy"
   ]
  },
  {
   "cell_type": "code",
   "execution_count": 61,
   "metadata": {
    "collapsed": false
   },
   "outputs": [
    {
     "name": "stdout",
     "output_type": "stream",
     "text": [
      "\n",
      "Test set: Average loss: 0.1253, Accuracy: 9586/10000 (96%)\n",
      "\n"
     ]
    }
   ],
   "source": [
    "test(1, test_loader)"
   ]
  },
  {
   "cell_type": "code",
   "execution_count": 62,
   "metadata": {
    "collapsed": false
   },
   "outputs": [],
   "source": [
    "label_predict = np.array([])\n",
    "model.eval()\n",
    "for data, target in test_loader:\n",
    "    data, target = Variable(data, volatile=True), Variable(target)\n",
    "    output = model(data)\n",
    "    temp = output.data.max(1)[1].numpy().reshape(-1)\n",
    "    label_predict = np.concatenate((label_predict, temp))"
   ]
  },
  {
   "cell_type": "code",
   "execution_count": 63,
   "metadata": {
    "collapsed": false
   },
   "outputs": [
    {
     "data": {
      "text/plain": [
       "array([ 7.,  2.,  1., ...,  4.,  5.,  6.])"
      ]
     },
     "execution_count": 63,
     "metadata": {},
     "output_type": "execute_result"
    }
   ],
   "source": [
    "label_predict"
   ]
  },
  {
   "cell_type": "code",
   "execution_count": 64,
   "metadata": {
    "collapsed": true
   },
   "outputs": [],
   "source": [
    "predict_label = pd.DataFrame(label_predict, columns=['label'], dtype=int)\n",
    "predict_label.reset_index(inplace=True)\n",
    "predict_label.rename(columns={'index': 'ID'}, inplace=True)"
   ]
  },
  {
   "cell_type": "code",
   "execution_count": 65,
   "metadata": {
    "collapsed": false
   },
   "outputs": [
    {
     "data": {
      "text/html": [
       "<div>\n",
       "<table border=\"1\" class=\"dataframe\">\n",
       "  <thead>\n",
       "    <tr style=\"text-align: right;\">\n",
       "      <th></th>\n",
       "      <th>ID</th>\n",
       "      <th>label</th>\n",
       "    </tr>\n",
       "  </thead>\n",
       "  <tbody>\n",
       "    <tr>\n",
       "      <th>0</th>\n",
       "      <td>0</td>\n",
       "      <td>7</td>\n",
       "    </tr>\n",
       "    <tr>\n",
       "      <th>1</th>\n",
       "      <td>1</td>\n",
       "      <td>2</td>\n",
       "    </tr>\n",
       "    <tr>\n",
       "      <th>2</th>\n",
       "      <td>2</td>\n",
       "      <td>1</td>\n",
       "    </tr>\n",
       "    <tr>\n",
       "      <th>3</th>\n",
       "      <td>3</td>\n",
       "      <td>0</td>\n",
       "    </tr>\n",
       "    <tr>\n",
       "      <th>4</th>\n",
       "      <td>4</td>\n",
       "      <td>4</td>\n",
       "    </tr>\n",
       "  </tbody>\n",
       "</table>\n",
       "</div>"
      ],
      "text/plain": [
       "   ID  label\n",
       "0   0      7\n",
       "1   1      2\n",
       "2   2      1\n",
       "3   3      0\n",
       "4   4      4"
      ]
     },
     "execution_count": 65,
     "metadata": {},
     "output_type": "execute_result"
    }
   ],
   "source": [
    "predict_label.head()"
   ]
  },
  {
   "cell_type": "code",
   "execution_count": 68,
   "metadata": {
    "collapsed": false
   },
   "outputs": [],
   "source": [
    "predict_label.to_csv('../data/kaggle/sample_submission.csv', index=False)\n"
   ]
  },
  {
   "cell_type": "code",
   "execution_count": null,
   "metadata": {
    "collapsed": true
   },
   "outputs": [],
   "source": []
  }
 ],
 "metadata": {
  "anaconda-cloud": {},
  "kernelspec": {
   "display_name": "Python [conda env:tensorflow]",
   "language": "python",
   "name": "conda-env-tensorflow-py"
  },
  "language_info": {
   "codemirror_mode": {
    "name": "ipython",
    "version": 3
   },
   "file_extension": ".py",
   "mimetype": "text/x-python",
   "name": "python",
   "nbconvert_exporter": "python",
   "pygments_lexer": "ipython3",
   "version": "3.5.2"
  }
 },
 "nbformat": 4,
 "nbformat_minor": 2
}

{
 "cells": [
  {
   "cell_type": "markdown",
   "metadata": {},
   "source": [
    "# Universum prescription (Dustbin method)"
   ]
  },
  {
   "cell_type": "code",
   "execution_count": 1,
   "metadata": {
    "collapsed": false,
    "deletable": true,
    "editable": true
   },
   "outputs": [],
   "source": [
    "%matplotlib inline\n",
    "\n",
    "from __future__ import print_function\n",
    "import pickle \n",
    "import numpy as np\n",
    "import argparse\n",
    "import torch\n",
    "import torch.nn as nn\n",
    "import torch.nn.functional as F\n",
    "import torch.optim as optim\n",
    "from torchvision import datasets, transforms\n",
    "from torch.autograd import Variable"
   ]
  },
  {
   "cell_type": "code",
   "execution_count": 2,
   "metadata": {
    "collapsed": false,
    "deletable": true,
    "editable": true
   },
   "outputs": [
    {
     "name": "stdout",
     "output_type": "stream",
     "text": [
      "Files already downloaded\n",
      "3000\n",
      "750\n"
     ]
    }
   ],
   "source": [
    "trainset_imoprt = pickle.load(open(\"../data/kaggle/train_labeled.p\", \"rb\"))\n",
    "validset_import = pickle.load(open(\"../data/kaggle/validation.p\", \"rb\"))\n",
    "trainset_unlabeled_import = pickle.load(open(\"../data/kaggle/train_unlabeled.p\", \"rb\"))\n",
    "trainset_unlabeled_import.train_labels = [10 for i in range(len(trainset_unlabeled_import.train_data))]\n",
    "full_train_dataset_loader = torch.utils.data.DataLoader(trainset_imoprt, batch_size=64, shuffle=True)\n",
    "unlabelled_dataset_loader = torch.utils.data.DataLoader(trainset_unlabeled_import, batch_size=64, shuffle=True)\n",
    "valid_loader = torch.utils.data.DataLoader(validset_import, batch_size=64, shuffle=True)"
   ]
  },
  {
   "cell_type": "code",
   "execution_count": 3,
   "metadata": {
    "collapsed": false
   },
   "outputs": [],
   "source": [
    "# Create a dataset with prob' of sampling from unlabelled\n",
    "def create_partition(prob = 0.01):\n",
    "    alltrain_data_list = []\n",
    "    alltrain_labels_list = []\n",
    "    \n",
    "    for i, (data, target) in enumerate(full_train_dataset_loader):\n",
    "        alltrain_data_list.append(data.resize_(data.size()[0],1,28,28))\n",
    "        alltrain_labels_list.extend(target)\n",
    "\n",
    "    num_batches = (int)(3000 * prob) / 64\n",
    "    \n",
    "    for i, (data, target) in enumerate(unlabelled_dataset_loader):\n",
    "        if i < num_batches:\n",
    "            alltrain_data_list.append(data.resize_(data.size()[0],1,28,28))\n",
    "            alltrain_labels_list.extend(target)\n",
    "\n",
    "    print(\"Size of data list\", len(alltrain_data_list))\n",
    "    print(\"Size of target list\", len(alltrain_labels_list))\n",
    "    return (alltrain_data_list, alltrain_labels_list)\n"
   ]
  },
  {
   "cell_type": "code",
   "execution_count": 4,
   "metadata": {
    "collapsed": false
   },
   "outputs": [],
   "source": [
    "\n",
    "\n",
    "def get_loaders(prob = 0.1):\n",
    "    alltrain_data_list, alltrain_labels_list = create_partition(prob)\n",
    "    train_images_tensor = torch.cat(alltrain_data_list, 0)\n",
    "    train_labels_tensor = torch.LongTensor(alltrain_labels_list)\n",
    "    train_dataset = torch.utils.data.TensorDataset(train_images_tensor, train_labels_tensor)\n",
    "    train_dataset_loader = torch.utils.data.DataLoader(train_dataset, batch_size=64, shuffle=True)\n",
    "    actual_train_dataset_loader = torch.utils.data.DataLoader(trainset_imoprt, batch_size=64, shuffle=True)\n",
    "    valid_loader = torch.utils.data.DataLoader(validset_import, batch_size=64, shuffle=True)\n",
    "    return train_dataset_loader, valid_loader"
   ]
  },
  {
   "cell_type": "code",
   "execution_count": null,
   "metadata": {
    "collapsed": false
   },
   "outputs": [],
   "source": []
  },
  {
   "cell_type": "code",
   "execution_count": 5,
   "metadata": {
    "collapsed": false,
    "deletable": true,
    "editable": true
   },
   "outputs": [],
   "source": [
    "class Net(nn.Module):\n",
    "    def __init__(self):\n",
    "        super(Net, self).__init__()\n",
    "        self.conv1 = nn.Conv2d(1, 10, kernel_size=5)\n",
    "        self.conv2 = nn.Conv2d(10, 20, kernel_size=5)\n",
    "        self.conv2_drop = nn.Dropout2d(0.3)\n",
    "        self.fc1 = nn.Linear(320, 50)\n",
    "        self.fc2 = nn.Linear(50, 11)\n",
    "\n",
    "    def forward(self, x):\n",
    "        \n",
    "        x = F.relu(F.max_pool2d(self.conv1(x), 2))\n",
    "        x = F.relu(F.max_pool2d(self.conv2_drop(self.conv2(x)), 2))\n",
    "        x = x.view(-1, 320)\n",
    "        x = F.relu(self.fc1(x))\n",
    "        x = F.dropout(x, training=self.training)\n",
    "        x = F.relu(self.fc2(x))\n",
    "\n",
    "        return x\n",
    "\n"
   ]
  },
  {
   "cell_type": "code",
   "execution_count": 6,
   "metadata": {
    "collapsed": true
   },
   "outputs": [],
   "source": [
    "class NetBN(nn.Module):\n",
    "    def __init__(self):\n",
    "        super(NetBN, self).__init__()\n",
    "        self.conv1 = nn.Conv2d(1, 64, kernel_size=5, stride=1, padding=1,\n",
    "                               bias=False)\n",
    "        self.conv2 = nn.Conv2d(64, 128, kernel_size=5, stride=1, padding=1,\n",
    "                               bias=False)\n",
    "        self.conv3 = nn.Conv2d(128, 256, kernel_size=5, stride=1, padding=1,\n",
    "                               bias=False)\n",
    "        self.maxpool = nn.MaxPool2d(kernel_size=2, stride=0, padding=0, ceil_mode=True) # change\n",
    "\n",
    "        self.conv1_bn = nn.BatchNorm2d(64)\n",
    "        self.conv2_bn = nn.BatchNorm2d(128)\n",
    "        self.conv3_bn = nn.BatchNorm2d(256)\n",
    "        self.conv1_drop = nn.Dropout2d(0.2)\n",
    "        self.conv2_drop = nn.Dropout2d(0.3)\n",
    "        self.conv3_drop = nn.Dropout2d(0.5)\n",
    "        self.fc1 = nn.Linear(32 * 32, 500)\n",
    "        self.fc2 = nn.Linear(500, 11)\n",
    "\n",
    "    def forward(self, x):\n",
    "        x = self.conv1_drop(F.relu(self.maxpool(self.conv1_bn(self.conv1(x)))))\n",
    "\n",
    "        x = self.conv2_drop(F.relu(self.maxpool(self.conv2_bn(self.conv2(x)))))\n",
    "\n",
    "        x = self.conv3_drop(F.relu(self.maxpool(self.conv3_bn(self.conv3(x)))))\n",
    "        x = x.view(-1, 32 * 32)\n",
    "        x = F.relu(self.fc1(x))\n",
    "        x = F.dropout(x, training=self.training)\n",
    "        x = F.relu(self.fc2(x))\n",
    "        return F.log_softmax(x)\n",
    "\n",
    "model = NetBN()"
   ]
  },
  {
   "cell_type": "code",
   "execution_count": 29,
   "metadata": {
    "collapsed": false,
    "deletable": true,
    "editable": true
   },
   "outputs": [],
   "source": [
    "# CPU only training\n",
    "def train(epoch, data_loader,train_errors):\n",
    "   \n",
    "    model.train()\n",
    "    train_loss = 0\n",
    "\n",
    "    for batch_idx, (data, target) in enumerate(data_loader):\n",
    "        \n",
    "        data, target = Variable(data), Variable(target.resize_(len(target)))\n",
    "        optimizer.zero_grad()\n",
    "        output = model(data)\n",
    "        loss = F.cross_entropy(output, target)\n",
    "        loss.backward()\n",
    "        train_loss += loss.data[0]\n",
    "        optimizer.step()\n",
    "        if batch_idx % 10 == 0:\n",
    "            print('Train Epoch: {} [{}/{} ({:.0f}%)]\\tLoss: {:.6f}'.format(\n",
    "                epoch, batch_idx * len(data), len(data_loader.dataset),\n",
    "                100. * batch_idx / len(data_loader), loss.data[0]))\n",
    "    train_loss /= len(data_loader)\n",
    "    return train_loss\n",
    "    "
   ]
  },
  {
   "cell_type": "code",
   "execution_count": 30,
   "metadata": {
    "collapsed": true
   },
   "outputs": [],
   "source": [
    "def test(epoch, valid_loader,test_errors):\n",
    "    model.eval()\n",
    "    test_loss = 0\n",
    "    correct = 0\n",
    "    for data, target in valid_loader:\n",
    "       \n",
    "        data, target = Variable(data, volatile=True), Variable(target)\n",
    "        output = model(data)\n",
    "        \n",
    "        test_loss += F.cross_entropy(output, target).data[0]\n",
    "        pred = output.data.max(1)[1] # get the index of the max log-probability\n",
    "        correct += pred.eq(target.data).cpu().sum()\n",
    "\n",
    "    test_loss /= len(valid_loader) # loss function already averages over batch size\n",
    "    print('\\nTest set: Average loss: {:.4f}, Accuracy: {}/{} ({:.0f}%)\\n'.format(\n",
    "        test_loss, correct, len(valid_loader.dataset),\n",
    "        100. * correct / len(valid_loader.dataset)))\n",
    "    return test_loss\n",
    "    "
   ]
  },
  {
   "cell_type": "code",
   "execution_count": 32,
   "metadata": {
    "collapsed": false,
    "deletable": true,
    "editable": true,
    "scrolled": false
   },
   "outputs": [
    {
     "name": "stdout",
     "output_type": "stream",
     "text": [
      "Size of data list 62\n",
      "Size of target list 3960\n",
      "Training with 0.3 probability of unlabelled samples\n",
      "Train Epoch: 1 [0/3960 (0%)]\tLoss: 2.435198\n",
      "Train Epoch: 1 [640/3960 (16%)]\tLoss: 2.360878\n",
      "Train Epoch: 1 [1280/3960 (32%)]\tLoss: 2.328968\n",
      "Train Epoch: 1 [1920/3960 (48%)]\tLoss: 2.296342\n",
      "Train Epoch: 1 [2560/3960 (65%)]\tLoss: 2.386894\n",
      "Train Epoch: 1 [3200/3960 (81%)]\tLoss: 2.316481\n",
      "Train Epoch: 1 [3840/3960 (97%)]\tLoss: 2.285096\n",
      "\n",
      "Test set: Average loss: 2.4943, Accuracy: 0/10000 (0%)\n",
      "\n",
      "Train Epoch: 2 [0/3960 (0%)]\tLoss: 2.377066\n",
      "Train Epoch: 2 [640/3960 (16%)]\tLoss: 2.328149\n",
      "Train Epoch: 2 [1280/3960 (32%)]\tLoss: 2.292719\n",
      "Train Epoch: 2 [1920/3960 (48%)]\tLoss: 2.368555\n",
      "Train Epoch: 2 [2560/3960 (65%)]\tLoss: 2.283605\n",
      "Train Epoch: 2 [3200/3960 (81%)]\tLoss: 2.260540\n",
      "Train Epoch: 2 [3840/3960 (97%)]\tLoss: 2.244699\n",
      "\n",
      "Test set: Average loss: 2.4692, Accuracy: 0/10000 (0%)\n",
      "\n",
      "Train Epoch: 3 [0/3960 (0%)]\tLoss: 2.296206\n",
      "Train Epoch: 3 [640/3960 (16%)]\tLoss: 2.230990\n",
      "Train Epoch: 3 [1280/3960 (32%)]\tLoss: 2.417330\n",
      "Train Epoch: 3 [1920/3960 (48%)]\tLoss: 2.283200\n",
      "Train Epoch: 3 [2560/3960 (65%)]\tLoss: 2.281279\n",
      "Train Epoch: 3 [3200/3960 (81%)]\tLoss: 2.260630\n",
      "Train Epoch: 3 [3840/3960 (97%)]\tLoss: 2.325319\n",
      "\n",
      "Test set: Average loss: 2.3771, Accuracy: 0/10000 (0%)\n",
      "\n",
      "Train Epoch: 4 [0/3960 (0%)]\tLoss: 2.206344\n",
      "Train Epoch: 4 [640/3960 (16%)]\tLoss: 2.230696\n",
      "Train Epoch: 4 [1280/3960 (32%)]\tLoss: 2.262824\n",
      "Train Epoch: 4 [1920/3960 (48%)]\tLoss: 2.300418\n",
      "Train Epoch: 4 [2560/3960 (65%)]\tLoss: 2.342637\n",
      "Train Epoch: 4 [3200/3960 (81%)]\tLoss: 2.188910\n",
      "Train Epoch: 4 [3840/3960 (97%)]\tLoss: 2.239858\n",
      "\n",
      "Test set: Average loss: 2.2559, Accuracy: 126/10000 (1%)\n",
      "\n",
      "Train Epoch: 5 [0/3960 (0%)]\tLoss: 2.183873\n",
      "Train Epoch: 5 [640/3960 (16%)]\tLoss: 2.105710\n",
      "Train Epoch: 5 [1280/3960 (32%)]\tLoss: 2.124190\n",
      "Train Epoch: 5 [1920/3960 (48%)]\tLoss: 2.128747\n",
      "Train Epoch: 5 [2560/3960 (65%)]\tLoss: 2.110762\n",
      "Train Epoch: 5 [3200/3960 (81%)]\tLoss: 2.145057\n",
      "Train Epoch: 5 [3840/3960 (97%)]\tLoss: 1.929998\n",
      "\n",
      "Test set: Average loss: 2.0758, Accuracy: 1122/10000 (11%)\n",
      "\n",
      "Train Epoch: 6 [0/3960 (0%)]\tLoss: 2.050767\n",
      "Train Epoch: 6 [640/3960 (16%)]\tLoss: 2.045807\n",
      "Train Epoch: 6 [1280/3960 (32%)]\tLoss: 2.041041\n",
      "Train Epoch: 6 [1920/3960 (48%)]\tLoss: 1.972461\n",
      "Train Epoch: 6 [2560/3960 (65%)]\tLoss: 2.004518\n",
      "Train Epoch: 6 [3200/3960 (81%)]\tLoss: 2.062373\n",
      "Train Epoch: 6 [3840/3960 (97%)]\tLoss: 1.830308\n",
      "\n",
      "Test set: Average loss: 1.8369, Accuracy: 2889/10000 (29%)\n",
      "\n",
      "Train Epoch: 7 [0/3960 (0%)]\tLoss: 1.947481\n",
      "Train Epoch: 7 [640/3960 (16%)]\tLoss: 1.843484\n",
      "Train Epoch: 7 [1280/3960 (32%)]\tLoss: 1.909625\n",
      "Train Epoch: 7 [1920/3960 (48%)]\tLoss: 1.880413\n",
      "Train Epoch: 7 [2560/3960 (65%)]\tLoss: 1.773221\n",
      "Train Epoch: 7 [3200/3960 (81%)]\tLoss: 1.825678\n",
      "Train Epoch: 7 [3840/3960 (97%)]\tLoss: 1.800597\n",
      "\n",
      "Test set: Average loss: 1.6121, Accuracy: 4316/10000 (43%)\n",
      "\n",
      "Train Epoch: 8 [0/3960 (0%)]\tLoss: 1.684750\n",
      "Train Epoch: 8 [640/3960 (16%)]\tLoss: 1.824125\n",
      "Train Epoch: 8 [1280/3960 (32%)]\tLoss: 1.572458\n",
      "Train Epoch: 8 [1920/3960 (48%)]\tLoss: 1.720247\n",
      "Train Epoch: 8 [2560/3960 (65%)]\tLoss: 1.746346\n",
      "Train Epoch: 8 [3200/3960 (81%)]\tLoss: 1.759523\n",
      "Train Epoch: 8 [3840/3960 (97%)]\tLoss: 1.661216\n",
      "\n",
      "Test set: Average loss: 1.3740, Accuracy: 6277/10000 (63%)\n",
      "\n",
      "Train Epoch: 9 [0/3960 (0%)]\tLoss: 1.506952\n",
      "Train Epoch: 9 [640/3960 (16%)]\tLoss: 1.574658\n",
      "Train Epoch: 9 [1280/3960 (32%)]\tLoss: 1.463584\n",
      "Train Epoch: 9 [1920/3960 (48%)]\tLoss: 1.497967\n",
      "Train Epoch: 9 [2560/3960 (65%)]\tLoss: 1.586451\n",
      "Train Epoch: 9 [3200/3960 (81%)]\tLoss: 1.318205\n",
      "Train Epoch: 9 [3840/3960 (97%)]\tLoss: 1.329764\n",
      "\n",
      "Test set: Average loss: 1.1940, Accuracy: 6692/10000 (67%)\n",
      "\n",
      "Train Epoch: 10 [0/3960 (0%)]\tLoss: 1.447977\n",
      "Train Epoch: 10 [640/3960 (16%)]\tLoss: 1.540187\n",
      "Train Epoch: 10 [1280/3960 (32%)]\tLoss: 1.454041\n",
      "Train Epoch: 10 [1920/3960 (48%)]\tLoss: 1.424454\n",
      "Train Epoch: 10 [2560/3960 (65%)]\tLoss: 1.414244\n",
      "Train Epoch: 10 [3200/3960 (81%)]\tLoss: 1.381410\n",
      "Train Epoch: 10 [3840/3960 (97%)]\tLoss: 1.344195\n",
      "\n",
      "Test set: Average loss: 1.0039, Accuracy: 7752/10000 (78%)\n",
      "\n",
      "Train Epoch: 11 [0/3960 (0%)]\tLoss: 1.405133\n",
      "Train Epoch: 11 [640/3960 (16%)]\tLoss: 1.440968\n",
      "Train Epoch: 11 [1280/3960 (32%)]\tLoss: 1.336247\n",
      "Train Epoch: 11 [1920/3960 (48%)]\tLoss: 1.260500\n",
      "Train Epoch: 11 [2560/3960 (65%)]\tLoss: 1.222713\n",
      "Train Epoch: 11 [3200/3960 (81%)]\tLoss: 1.263613\n",
      "Train Epoch: 11 [3840/3960 (97%)]\tLoss: 1.274690\n",
      "\n",
      "Test set: Average loss: 0.8708, Accuracy: 8316/10000 (83%)\n",
      "\n",
      "Train Epoch: 12 [0/3960 (0%)]\tLoss: 1.261047\n",
      "Train Epoch: 12 [640/3960 (16%)]\tLoss: 1.258891\n",
      "Train Epoch: 12 [1280/3960 (32%)]\tLoss: 1.193857\n",
      "Train Epoch: 12 [1920/3960 (48%)]\tLoss: 1.169221\n",
      "Train Epoch: 12 [2560/3960 (65%)]\tLoss: 1.078023\n",
      "Train Epoch: 12 [3200/3960 (81%)]\tLoss: 1.311285\n",
      "Train Epoch: 12 [3840/3960 (97%)]\tLoss: 1.107496\n",
      "\n",
      "Test set: Average loss: 0.7978, Accuracy: 8286/10000 (83%)\n",
      "\n",
      "Train Epoch: 13 [0/3960 (0%)]\tLoss: 1.182489\n",
      "Train Epoch: 13 [640/3960 (16%)]\tLoss: 1.220806\n",
      "Train Epoch: 13 [1280/3960 (32%)]\tLoss: 1.069939\n",
      "Train Epoch: 13 [1920/3960 (48%)]\tLoss: 1.086494\n",
      "Train Epoch: 13 [2560/3960 (65%)]\tLoss: 1.057179\n",
      "Train Epoch: 13 [3200/3960 (81%)]\tLoss: 1.200891\n",
      "Train Epoch: 13 [3840/3960 (97%)]\tLoss: 1.104777\n",
      "\n",
      "Test set: Average loss: 0.7203, Accuracy: 8531/10000 (85%)\n",
      "\n",
      "Train Epoch: 14 [0/3960 (0%)]\tLoss: 1.148926\n",
      "Train Epoch: 14 [640/3960 (16%)]\tLoss: 1.172145\n",
      "Train Epoch: 14 [1280/3960 (32%)]\tLoss: 1.189601\n",
      "Train Epoch: 14 [1920/3960 (48%)]\tLoss: 1.133800\n",
      "Train Epoch: 14 [2560/3960 (65%)]\tLoss: 0.997208\n",
      "Train Epoch: 14 [3200/3960 (81%)]\tLoss: 1.048322\n",
      "Train Epoch: 14 [3840/3960 (97%)]\tLoss: 1.045226\n",
      "\n",
      "Test set: Average loss: 0.6659, Accuracy: 8628/10000 (86%)\n",
      "\n",
      "[2.339227964801173, 2.3003566688106907, 2.278183329489923, 2.2239710015635334, 2.135148242596657, 1.989993199225395, 1.8462384323919974, 1.683673241446095, 1.522351405312938, 1.405957987231593, 1.3060210212584464, 1.2207958736727316, 1.1743542273198404, 1.1103429448220037]\n"
     ]
    },
    {
     "data": {
      "image/png": "[encoded data removed]",
      "text/plain": [
       "<matplotlib.figure.Figure at 0x126349048>"
      ]
     },
     "metadata": {},
     "output_type": "display_data"
    },
    {
     "name": "stdout",
     "output_type": "stream",
     "text": [
      "Size of data list 71\n",
      "Size of target list 4536\n",
      "Training with 0.5 probability of unlabelled samples\n",
      "Train Epoch: 1 [0/4536 (0%)]\tLoss: 2.443079\n",
      "Train Epoch: 1 [640/4536 (14%)]\tLoss: 2.311895\n",
      "Train Epoch: 1 [1280/4536 (28%)]\tLoss: 2.248409\n",
      "Train Epoch: 1 [1920/4536 (42%)]\tLoss: 2.301363\n",
      "Train Epoch: 1 [2560/4536 (56%)]\tLoss: 1.976566\n",
      "Train Epoch: 1 [3200/4536 (70%)]\tLoss: 2.202016\n",
      "Train Epoch: 1 [3840/4536 (85%)]\tLoss: 2.075963\n",
      "Train Epoch: 1 [3920/4536 (99%)]\tLoss: 2.111645\n",
      "\n",
      "Test set: Average loss: 2.5548, Accuracy: 0/10000 (0%)\n",
      "\n",
      "Train Epoch: 2 [0/4536 (0%)]\tLoss: 2.281247\n",
      "Train Epoch: 2 [640/4536 (14%)]\tLoss: 2.072486\n",
      "Train Epoch: 2 [1280/4536 (28%)]\tLoss: 2.196877\n",
      "Train Epoch: 2 [1920/4536 (42%)]\tLoss: 2.184125\n",
      "Train Epoch: 2 [2560/4536 (56%)]\tLoss: 2.270947\n",
      "Train Epoch: 2 [3200/4536 (70%)]\tLoss: 2.111464\n",
      "Train Epoch: 2 [3840/4536 (85%)]\tLoss: 2.306184\n",
      "Train Epoch: 2 [3920/4536 (99%)]\tLoss: 2.058058\n",
      "\n",
      "Test set: Average loss: 2.5153, Accuracy: 0/10000 (0%)\n",
      "\n",
      "Train Epoch: 3 [0/4536 (0%)]\tLoss: 2.318871\n",
      "Train Epoch: 3 [640/4536 (14%)]\tLoss: 1.999533\n",
      "Train Epoch: 3 [1280/4536 (28%)]\tLoss: 2.255283\n",
      "Train Epoch: 3 [1920/4536 (42%)]\tLoss: 2.166726\n",
      "Train Epoch: 3 [2560/4536 (56%)]\tLoss: 2.219984\n",
      "Train Epoch: 3 [3200/4536 (70%)]\tLoss: 2.233285\n",
      "Train Epoch: 3 [3840/4536 (85%)]\tLoss: 2.088979\n",
      "Train Epoch: 3 [3920/4536 (99%)]\tLoss: 2.049273\n",
      "\n",
      "Test set: Average loss: 2.4472, Accuracy: 0/10000 (0%)\n",
      "\n",
      "Train Epoch: 4 [0/4536 (0%)]\tLoss: 2.330901\n",
      "Train Epoch: 4 [640/4536 (14%)]\tLoss: 2.237732\n",
      "Train Epoch: 4 [1280/4536 (28%)]\tLoss: 2.021074\n",
      "Train Epoch: 4 [1920/4536 (42%)]\tLoss: 2.284487\n",
      "Train Epoch: 4 [2560/4536 (56%)]\tLoss: 2.057641\n",
      "Train Epoch: 4 [3200/4536 (70%)]\tLoss: 2.155635\n",
      "Train Epoch: 4 [3840/4536 (85%)]\tLoss: 2.011484\n",
      "Train Epoch: 4 [3920/4536 (99%)]\tLoss: 2.211534\n",
      "\n",
      "Test set: Average loss: 2.3170, Accuracy: 296/10000 (3%)\n",
      "\n",
      "Train Epoch: 5 [0/4536 (0%)]\tLoss: 2.118490\n",
      "Train Epoch: 5 [640/4536 (14%)]\tLoss: 1.824135\n",
      "Train Epoch: 5 [1280/4536 (28%)]\tLoss: 2.096690\n",
      "Train Epoch: 5 [1920/4536 (42%)]\tLoss: 2.132613\n",
      "Train Epoch: 5 [2560/4536 (56%)]\tLoss: 2.033774\n",
      "Train Epoch: 5 [3200/4536 (70%)]\tLoss: 2.000290\n",
      "Train Epoch: 5 [3840/4536 (85%)]\tLoss: 1.847824\n",
      "Train Epoch: 5 [3920/4536 (99%)]\tLoss: 1.947714\n",
      "\n",
      "Test set: Average loss: 2.1715, Accuracy: 1050/10000 (10%)\n",
      "\n",
      "Train Epoch: 6 [0/4536 (0%)]\tLoss: 1.927537\n",
      "Train Epoch: 6 [640/4536 (14%)]\tLoss: 1.932434\n",
      "Train Epoch: 6 [1280/4536 (28%)]\tLoss: 1.771779\n",
      "Train Epoch: 6 [1920/4536 (42%)]\tLoss: 1.896528\n",
      "Train Epoch: 6 [2560/4536 (56%)]\tLoss: 1.884470\n",
      "Train Epoch: 6 [3200/4536 (70%)]\tLoss: 1.731042\n",
      "Train Epoch: 6 [3840/4536 (85%)]\tLoss: 1.973375\n",
      "Train Epoch: 6 [3920/4536 (99%)]\tLoss: 1.900378\n",
      "\n",
      "Test set: Average loss: 1.9477, Accuracy: 2141/10000 (21%)\n",
      "\n",
      "Train Epoch: 7 [0/4536 (0%)]\tLoss: 1.975649\n",
      "Train Epoch: 7 [640/4536 (14%)]\tLoss: 1.767372\n",
      "Train Epoch: 7 [1280/4536 (28%)]\tLoss: 1.791084\n",
      "Train Epoch: 7 [1920/4536 (42%)]\tLoss: 1.778303\n",
      "Train Epoch: 7 [2560/4536 (56%)]\tLoss: 1.793719\n",
      "Train Epoch: 7 [3200/4536 (70%)]\tLoss: 1.708581\n",
      "Train Epoch: 7 [3840/4536 (85%)]\tLoss: 1.592278\n",
      "Train Epoch: 7 [3920/4536 (99%)]\tLoss: 1.833999\n",
      "\n",
      "Test set: Average loss: 1.7771, Accuracy: 2984/10000 (30%)\n",
      "\n",
      "Train Epoch: 8 [0/4536 (0%)]\tLoss: 1.662911\n",
      "Train Epoch: 8 [640/4536 (14%)]\tLoss: 1.895583\n",
      "Train Epoch: 8 [1280/4536 (28%)]\tLoss: 1.714161\n",
      "Train Epoch: 8 [1920/4536 (42%)]\tLoss: 1.699119\n",
      "Train Epoch: 8 [2560/4536 (56%)]\tLoss: 1.814998\n",
      "Train Epoch: 8 [3200/4536 (70%)]\tLoss: 1.605653\n",
      "Train Epoch: 8 [3840/4536 (85%)]\tLoss: 1.560289\n",
      "Train Epoch: 8 [3920/4536 (99%)]\tLoss: 1.653213\n",
      "\n",
      "Test set: Average loss: 1.5342, Accuracy: 4309/10000 (43%)\n",
      "\n",
      "Train Epoch: 9 [0/4536 (0%)]\tLoss: 1.731269\n",
      "Train Epoch: 9 [640/4536 (14%)]\tLoss: 1.349802\n",
      "Train Epoch: 9 [1280/4536 (28%)]\tLoss: 1.388119\n",
      "Train Epoch: 9 [1920/4536 (42%)]\tLoss: 1.572895\n",
      "Train Epoch: 9 [2560/4536 (56%)]\tLoss: 1.580475\n",
      "Train Epoch: 9 [3200/4536 (70%)]\tLoss: 1.501065\n",
      "Train Epoch: 9 [3840/4536 (85%)]\tLoss: 1.491561\n",
      "Train Epoch: 9 [3920/4536 (99%)]\tLoss: 1.374365\n",
      "\n",
      "Test set: Average loss: 1.3146, Accuracy: 5208/10000 (52%)\n",
      "\n",
      "Train Epoch: 10 [0/4536 (0%)]\tLoss: 1.435905\n",
      "Train Epoch: 10 [640/4536 (14%)]\tLoss: 1.409899\n",
      "Train Epoch: 10 [1280/4536 (28%)]\tLoss: 1.515009\n",
      "Train Epoch: 10 [1920/4536 (42%)]\tLoss: 1.406477\n",
      "Train Epoch: 10 [2560/4536 (56%)]\tLoss: 1.275547\n",
      "Train Epoch: 10 [3200/4536 (70%)]\tLoss: 1.480195\n",
      "Train Epoch: 10 [3840/4536 (85%)]\tLoss: 1.395745\n",
      "Train Epoch: 10 [3920/4536 (99%)]\tLoss: 1.387603\n",
      "\n",
      "Test set: Average loss: 1.1774, Accuracy: 5735/10000 (57%)\n",
      "\n",
      "Train Epoch: 11 [0/4536 (0%)]\tLoss: 1.411920\n",
      "Train Epoch: 11 [640/4536 (14%)]\tLoss: 1.456055\n",
      "Train Epoch: 11 [1280/4536 (28%)]\tLoss: 1.217643\n",
      "Train Epoch: 11 [1920/4536 (42%)]\tLoss: 1.308235\n",
      "Train Epoch: 11 [2560/4536 (56%)]\tLoss: 1.338521\n",
      "Train Epoch: 11 [3200/4536 (70%)]\tLoss: 1.332401\n",
      "Train Epoch: 11 [3840/4536 (85%)]\tLoss: 1.247941\n",
      "Train Epoch: 11 [3920/4536 (99%)]\tLoss: 1.340411\n",
      "\n",
      "Test set: Average loss: 1.0097, Accuracy: 7099/10000 (71%)\n",
      "\n",
      "Train Epoch: 12 [0/4536 (0%)]\tLoss: 1.404853\n",
      "Train Epoch: 12 [640/4536 (14%)]\tLoss: 1.375943\n",
      "Train Epoch: 12 [1280/4536 (28%)]\tLoss: 1.275298\n",
      "Train Epoch: 12 [1920/4536 (42%)]\tLoss: 1.345874\n",
      "Train Epoch: 12 [2560/4536 (56%)]\tLoss: 1.161048\n",
      "Train Epoch: 12 [3200/4536 (70%)]\tLoss: 1.382403\n",
      "Train Epoch: 12 [3840/4536 (85%)]\tLoss: 1.409609\n",
      "Train Epoch: 12 [3920/4536 (99%)]\tLoss: 1.197210\n",
      "\n",
      "Test set: Average loss: 0.9064, Accuracy: 7594/10000 (76%)\n",
      "\n",
      "Train Epoch: 13 [0/4536 (0%)]\tLoss: 1.220392\n",
      "Train Epoch: 13 [640/4536 (14%)]\tLoss: 1.190530\n",
      "Train Epoch: 13 [1280/4536 (28%)]\tLoss: 1.224767\n",
      "Train Epoch: 13 [1920/4536 (42%)]\tLoss: 1.203393\n",
      "Train Epoch: 13 [2560/4536 (56%)]\tLoss: 1.201845\n",
      "Train Epoch: 13 [3200/4536 (70%)]\tLoss: 1.083272\n",
      "Train Epoch: 13 [3840/4536 (85%)]\tLoss: 1.122424\n",
      "Train Epoch: 13 [3920/4536 (99%)]\tLoss: 1.261798\n",
      "\n",
      "Test set: Average loss: 0.8144, Accuracy: 7943/10000 (79%)\n",
      "\n",
      "Train Epoch: 14 [0/4536 (0%)]\tLoss: 1.089481\n",
      "Train Epoch: 14 [640/4536 (14%)]\tLoss: 1.256535\n",
      "Train Epoch: 14 [1280/4536 (28%)]\tLoss: 1.095126\n",
      "Train Epoch: 14 [1920/4536 (42%)]\tLoss: 1.299340\n",
      "Train Epoch: 14 [2560/4536 (56%)]\tLoss: 1.383202\n",
      "Train Epoch: 14 [3200/4536 (70%)]\tLoss: 1.186412\n",
      "Train Epoch: 14 [3840/4536 (85%)]\tLoss: 1.126073\n",
      "Train Epoch: 14 [3920/4536 (99%)]\tLoss: 1.207330\n",
      "\n",
      "Test set: Average loss: 0.7655, Accuracy: 7996/10000 (80%)\n",
      "\n",
      "[2.2338144208343937, 2.160879313106268, 2.1334519570981954, 2.084240223320437, 2.013439215404887, 1.9170347720804348, 1.8040031480117582, 1.6817009029254106, 1.5467618049030574, 1.4427087609197053, 1.349595266328731, 1.272812351374559, 1.216858468425106, 1.1652204402735535]\n"
     ]
    },
    {
     "data": {
      "image/png": "[encoded data removed]",
      "text/plain": [
       "<matplotlib.figure.Figure at 0x12cbb8198>"
      ]
     },
     "metadata": {},
     "output_type": "display_data"
    }
   ],
   "source": [
    "for prob in [0.3, 0.5]:\n",
    "    (train_dataset_loader, valid_loader) = get_loaders(prob)\n",
    "    print(\"Training with {} probability of unlabelled samples\".format(prob))\n",
    "    model = NetBN()#pickle.load(open(\"model.p\", \"rb\"))\n",
    "    optimizer = optim.SGD(model.parameters(), lr=0.001, momentum=0.8)\n",
    "    train_errors=[]\n",
    "    test_errors=[]\n",
    "    for epoch in range(1, 15):\n",
    "        train_errors.append(train(epoch, train_dataset_loader,train_errors))\n",
    "        test_errors.append(test(epoch, valid_loader,test_errors))\n",
    "    print(train_errors)\n",
    "    plot(train_errors, test_errors, 'Universum with {} probability'.format(prob))"
   ]
  },
  {
   "cell_type": "code",
   "execution_count": 28,
   "metadata": {
    "collapsed": false
   },
   "outputs": [
    {
     "data": {
      "image/png": "[encoded data removed]",
      "text/plain": [
       "<matplotlib.figure.Figure at 0x114ec3a20>"
      ]
     },
     "metadata": {},
     "output_type": "display_data"
    }
   ],
   "source": [
    "def plot(train_errors, test_errors, title):\n",
    "    import matplotlib.pyplot as plt\n",
    "    import numpy as np\n",
    "    plt.plot(np.arange(len(train_errors)),train_errors,label=\"Training errors\")\n",
    "    plt.plot(np.arange(len(train_errors)),test_errors,label=\"Training errors\")\n",
    "    plt.xlabel('Epoch size')\n",
    "    legend = plt.legend(loc='upper center', shadow=True)\n",
    "    plt.ylabel('Loss Value')\n",
    "    plt.title(title)\n",
    "    plt.savefig(title+'.jpg')\n",
    "    plt.show()\n",
    "plot([1,2,3,4], [.2,.3,.4,.5], 'Universum with {} probability'.format(prob))"
   ]
  },
  {
   "cell_type": "markdown",
   "metadata": {
    "deletable": true,
    "editable": true
   },
   "source": [
    "# Create Sample Submission"
   ]
  },
  {
   "cell_type": "code",
   "execution_count": null,
   "metadata": {
    "collapsed": false,
    "deletable": true,
    "editable": true
   },
   "outputs": [],
   "source": [
    "testset = pickle.load(open(\"../data/kaggle/test.p\", \"rb\"))"
   ]
  },
  {
   "cell_type": "code",
   "execution_count": null,
   "metadata": {
    "collapsed": false,
    "deletable": true,
    "editable": true
   },
   "outputs": [],
   "source": []
  },
  {
   "cell_type": "code",
   "execution_count": null,
   "metadata": {
    "collapsed": false,
    "deletable": true,
    "editable": true
   },
   "outputs": [],
   "source": [
    "test_loader = torch.utils.data.DataLoader(testset,batch_size=64, shuffle=False)"
   ]
  },
  {
   "cell_type": "markdown",
   "metadata": {
    "deletable": true,
    "editable": true
   },
   "source": [
    "## Test Accuuracy"
   ]
  },
  {
   "cell_type": "code",
   "execution_count": null,
   "metadata": {
    "collapsed": false,
    "deletable": true,
    "editable": true
   },
   "outputs": [],
   "source": [
    "test(1, test_loader)"
   ]
  },
  {
   "cell_type": "code",
   "execution_count": null,
   "metadata": {
    "collapsed": false,
    "deletable": true,
    "editable": true
   },
   "outputs": [],
   "source": [
    "label_predict = np.array([])\n",
    "model.eval()\n",
    "for data, target in test_loader:\n",
    "    data, target = Variable(data, volatile=True), Variable(target)\n",
    "    output = model(data)\n",
    "    temp = output.data.max(1)[1].numpy().reshape(-1)\n",
    "    label_predict = np.concatenate((label_predict, temp))"
   ]
  },
  {
   "cell_type": "code",
   "execution_count": null,
   "metadata": {
    "collapsed": false,
    "deletable": true,
    "editable": true
   },
   "outputs": [],
   "source": [
    "label_predict"
   ]
  },
  {
   "cell_type": "code",
   "execution_count": null,
   "metadata": {
    "collapsed": false,
    "deletable": true,
    "editable": true
   },
   "outputs": [],
   "source": [
    "import pandas as pd\n",
    "predict_label = pd.DataFrame(label_predict, columns=['label'], dtype=int)\n",
    "predict_label.reset_index(inplace=True)\n",
    "predict_label.rename(columns={'index': 'ID'}, inplace=True)"
   ]
  },
  {
   "cell_type": "code",
   "execution_count": null,
   "metadata": {
    "collapsed": false,
    "deletable": true,
    "editable": true
   },
   "outputs": [],
   "source": [
    "predict_label.head()"
   ]
  },
  {
   "cell_type": "code",
   "execution_count": null,
   "metadata": {
    "collapsed": false,
    "deletable": true,
    "editable": true
   },
   "outputs": [],
   "source": [
    "predict_label.to_csv('../data/kaggle/sample_submission.csv', index=False)\n"
   ]
  },
  {
   "cell_type": "code",
   "execution_count": null,
   "metadata": {
    "collapsed": true,
    "deletable": true,
    "editable": true
   },
   "outputs": [],
   "source": [
    "def random_gaussian_noise(npimg):\n",
    "    h, w = npimg.shape\n",
    "    mu, sigma = 0, 0.1\n",
    "    s = np.random.normal(mu, sigma, h * w)\n",
    "    s = s.reshape((h,w))\n",
    "    return npimg + s"
   ]
  },
  {
   "cell_type": "code",
   "execution_count": null,
   "metadata": {
    "collapsed": true
   },
   "outputs": [],
   "source": []
  }
 ],
 "metadata": {
  "anaconda-cloud": {},
  "kernelspec": {
   "display_name": "Python [conda env:tensorflow]",
   "language": "python",
   "name": "conda-env-tensorflow-py"
  },
  "language_info": {
   "codemirror_mode": {
    "name": "ipython",
    "version": 3
   },
   "file_extension": ".py",
   "mimetype": "text/x-python",
   "name": "python",
   "nbconvert_exporter": "python",
   "pygments_lexer": "ipython3",
   "version": "3.5.2"
  }
 },
 "nbformat": 4,
 "nbformat_minor": 2
}

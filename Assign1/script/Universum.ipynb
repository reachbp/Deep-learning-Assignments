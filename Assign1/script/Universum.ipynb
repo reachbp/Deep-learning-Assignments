{
 "cells": [
  {
   "cell_type": "markdown",
   "metadata": {},
   "source": [
    "# Universum prescription (Dustbin method)"
   ]
  },
  {
   "cell_type": "code",
   "execution_count": 2,
   "metadata": {
    "collapsed": false,
    "deletable": true,
    "editable": true
   },
   "outputs": [],
   "source": [
    "%matplotlib inline\n",
    "\n",
    "from __future__ import print_function\n",
    "import pickle \n",
    "import numpy as np\n",
    "import argparse\n",
    "import torch\n",
    "import torch.nn as nn\n",
    "import torch.nn.functional as F\n",
    "import torch.optim as optim\n",
    "from torchvision import datasets, transforms\n",
    "from torch.autograd import Variable"
   ]
  },
  {
   "cell_type": "code",
   "execution_count": 4,
   "metadata": {
    "collapsed": false,
    "deletable": true,
    "editable": true
   },
   "outputs": [
    {
     "name": "stdout",
     "output_type": "stream",
     "text": [
      "Files already downloaded\n",
      "3000\n",
      "750\n"
     ]
    }
   ],
   "source": [
    "trainset_imoprt = pickle.load(open(\"../data/kaggle/train_labeled.p\", \"rb\"))\n",
    "validset_import = pickle.load(open(\"../data/kaggle/validation.p\", \"rb\"))\n",
    "trainset_unlabeled_import = pickle.load(open(\"../data/kaggle/train_unlabeled.p\", \"rb\"))\n",
    "trainset_unlabeled_import.train_labels = [10 for i in range(len(trainset_unlabeled_import.train_data))]\n",
    "full_train_dataset_loader = torch.utils.data.DataLoader(trainset_imoprt, batch_size=64, shuffle=True)\n",
    "unlabelled_dataset_loader = torch.utils.data.DataLoader(trainset_unlabeled_import, batch_size=64, shuffle=True)\n",
    "valid_loader = torch.utils.data.DataLoader(validset_import, batch_size=64, shuffle=True)"
   ]
  },
  {
   "cell_type": "code",
   "execution_count": 50,
   "metadata": {
    "collapsed": false
   },
   "outputs": [],
   "source": [
    "# Create a dataset with prob' of sampling from unlabelled\n",
    "def create_partition(prob = 0.01):\n",
    "    alltrain_data_list = []\n",
    "    alltrain_labels_list = []\n",
    "    \n",
    "    for i, (data, target) in enumerate(full_train_dataset_loader):\n",
    "        alltrain_data_list.append(data.resize_(data.size()[0],1,28,28))\n",
    "        alltrain_labels_list.extend(target)\n",
    "\n",
    "    num_batches = (int)(3000 * prob) / 64\n",
    "    \n",
    "    for i, (data, target) in enumerate(unlabelled_dataset_loader):\n",
    "        if i < num_batches:\n",
    "            alltrain_data_list.append(data.resize_(data.size()[0],1,28,28))\n",
    "            alltrain_labels_list.extend(target)\n",
    "\n",
    "    print(\"Size of data list\", len(alltrain_data_list))\n",
    "    print(\"Size of target list\", len(alltrain_labels_list))\n",
    "    return (alltrain_data_list, alltrain_labels_list)\n"
   ]
  },
  {
   "cell_type": "code",
   "execution_count": 52,
   "metadata": {
    "collapsed": false
   },
   "outputs": [],
   "source": [
    "\n",
    "\n",
    "def get_loaders(prob = 0.1):\n",
    "    alltrain_data_list, alltrain_labels_list = create_partition(prob)\n",
    "    train_images_tensor = torch.cat(alltrain_data_list, 0)\n",
    "    train_labels_tensor = torch.LongTensor(alltrain_labels_list)\n",
    "    train_dataset = torch.utils.data.TensorDataset(train_images_tensor, train_labels_tensor)\n",
    "    train_dataset_loader = torch.utils.data.DataLoader(train_dataset, batch_size=64, shuffle=True)\n",
    "    actual_train_dataset_loader = torch.utils.data.DataLoader(trainset_imoprt, batch_size=64, shuffle=True)\n",
    "    valid_loader = torch.utils.data.DataLoader(validset_import, batch_size=64, shuffle=True)\n",
    "    return train_dataset_loader, valid_loader"
   ]
  },
  {
   "cell_type": "code",
   "execution_count": 38,
   "metadata": {
    "collapsed": false
   },
   "outputs": [],
   "source": []
  },
  {
   "cell_type": "code",
   "execution_count": 53,
   "metadata": {
    "collapsed": false,
    "deletable": true,
    "editable": true
   },
   "outputs": [],
   "source": [
    "class Net(nn.Module):\n",
    "    def __init__(self):\n",
    "        super(Net, self).__init__()\n",
    "        self.conv1 = nn.Conv2d(1, 10, kernel_size=5)\n",
    "        self.conv2 = nn.Conv2d(10, 20, kernel_size=5)\n",
    "        self.conv2_drop = nn.Dropout2d(0.3)\n",
    "        self.fc1 = nn.Linear(320, 50)\n",
    "        self.fc2 = nn.Linear(50, 11)\n",
    "\n",
    "    def forward(self, x):\n",
    "        \n",
    "        x = F.relu(F.max_pool2d(self.conv1(x), 2))\n",
    "        x = F.relu(F.max_pool2d(self.conv2_drop(self.conv2(x)), 2))\n",
    "        x = x.view(-1, 320)\n",
    "        x = F.relu(self.fc1(x))\n",
    "        x = F.dropout(x, training=self.training)\n",
    "        x = F.relu(self.fc2(x))\n",
    "\n",
    "        return x\n",
    "\n"
   ]
  },
  {
   "cell_type": "code",
   "execution_count": 71,
   "metadata": {
    "collapsed": false,
    "deletable": true,
    "editable": true
   },
   "outputs": [],
   "source": [
    "# CPU only training\n",
    "def train(epoch, data_loader,train_errors):\n",
    "   \n",
    "    model.train()\n",
    "    train_loss = 0\n",
    "    for batch_idx, (data, target) in enumerate(data_loader):\n",
    "        \n",
    "        data, target = Variable(data), Variable(target.resize_(len(target)))\n",
    "        optimizer.zero_grad()\n",
    "        output = model(data)\n",
    "        loss = F.cross_entropy(output, target)\n",
    "        loss.backward()\n",
    "        train_loss += loss.data[0]\n",
    "        optimizer.step()\n",
    "        if batch_idx % 10 == 0:\n",
    "            print('Train Epoch: {} [{}/{} ({:.0f}%)]\\tLoss: {:.6f}'.format(\n",
    "                epoch, batch_idx * len(data), len(data_loader.dataset),\n",
    "                100. * batch_idx / len(data_loader), loss.data[0]))\n",
    "    return train_loss\n",
    "    "
   ]
  },
  {
   "cell_type": "code",
   "execution_count": 72,
   "metadata": {
    "collapsed": true
   },
   "outputs": [],
   "source": [
    "def test(epoch, valid_loader,test_errors):\n",
    "    model.eval()\n",
    "    test_loss = 0\n",
    "    correct = 0\n",
    "    for data, target in valid_loader:\n",
    "       \n",
    "        data, target = Variable(data, volatile=True), Variable(target)\n",
    "        output = model(data)\n",
    "        \n",
    "        test_loss += F.cross_entropy(output, target).data[0]\n",
    "        pred = output.data.max(1)[1] # get the index of the max log-probability\n",
    "        correct += pred.eq(target.data).cpu().sum()\n",
    "\n",
    "    test_loss /= len(valid_loader) # loss function already averages over batch size\n",
    "    print('\\nTest set: Average loss: {:.4f}, Accuracy: {}/{} ({:.0f}%)\\n'.format(\n",
    "        test_loss, correct, len(valid_loader.dataset),\n",
    "        100. * correct / len(valid_loader.dataset)))\n",
    "    return test_loss\n",
    "    "
   ]
  },
  {
   "cell_type": "code",
   "execution_count": 76,
   "metadata": {
    "collapsed": false,
    "deletable": true,
    "editable": true,
    "scrolled": false
   },
   "outputs": [
    {
     "name": "stdout",
     "output_type": "stream",
     "text": [
      "Size of data list 50\n",
      "Size of target list 3192\n",
      "Training with 0.05 probability of unlabelled samples\n",
      "Train Epoch: 1 [0/3192 (0%)]\tLoss: 2.391574\n",
      "Train Epoch: 1 [640/3192 (20%)]\tLoss: 2.395042\n",
      "Train Epoch: 1 [1280/3192 (40%)]\tLoss: 2.373831\n",
      "Train Epoch: 1 [1920/3192 (60%)]\tLoss: 2.344448\n",
      "Train Epoch: 1 [2560/3192 (80%)]\tLoss: 2.304897\n",
      "\n",
      "Test set: Average loss: 2.1472, Accuracy: 4342/10000 (43%)\n",
      "\n",
      "Train Epoch: 2 [0/3192 (0%)]\tLoss: 2.230816\n",
      "Train Epoch: 2 [640/3192 (20%)]\tLoss: 2.132198\n",
      "Train Epoch: 2 [1280/3192 (40%)]\tLoss: 1.896034\n",
      "Train Epoch: 2 [1920/3192 (60%)]\tLoss: 1.756158\n",
      "Train Epoch: 2 [2560/3192 (80%)]\tLoss: 1.497557\n",
      "\n",
      "Test set: Average loss: 1.1289, Accuracy: 7451/10000 (75%)\n",
      "\n",
      "Train Epoch: 3 [0/3192 (0%)]\tLoss: 1.633659\n",
      "Train Epoch: 3 [640/3192 (20%)]\tLoss: 1.217053\n",
      "Train Epoch: 3 [1280/3192 (40%)]\tLoss: 1.387924\n",
      "Train Epoch: 3 [1920/3192 (60%)]\tLoss: 1.100206\n",
      "Train Epoch: 3 [2560/3192 (80%)]\tLoss: 1.201785\n",
      "\n",
      "Test set: Average loss: 0.5850, Accuracy: 8561/10000 (86%)\n",
      "\n",
      "Train Epoch: 4 [0/3192 (0%)]\tLoss: 1.146678\n",
      "Train Epoch: 4 [640/3192 (20%)]\tLoss: 0.988067\n",
      "Train Epoch: 4 [1280/3192 (40%)]\tLoss: 1.412390\n",
      "Train Epoch: 4 [1920/3192 (60%)]\tLoss: 0.895294\n",
      "Train Epoch: 4 [2560/3192 (80%)]\tLoss: 0.914358\n",
      "\n",
      "Test set: Average loss: 0.4728, Accuracy: 8985/10000 (90%)\n",
      "\n",
      "Train Epoch: 5 [0/3192 (0%)]\tLoss: 1.154621\n",
      "Train Epoch: 5 [640/3192 (20%)]\tLoss: 1.037324\n",
      "Train Epoch: 5 [1280/3192 (40%)]\tLoss: 1.096364\n",
      "Train Epoch: 5 [1920/3192 (60%)]\tLoss: 0.766804\n",
      "Train Epoch: 5 [2560/3192 (80%)]\tLoss: 0.705435\n",
      "\n",
      "Test set: Average loss: 0.3987, Accuracy: 9011/10000 (90%)\n",
      "\n",
      "Train Epoch: 6 [0/3192 (0%)]\tLoss: 0.848102\n",
      "Train Epoch: 6 [640/3192 (20%)]\tLoss: 0.811459\n",
      "Train Epoch: 6 [1280/3192 (40%)]\tLoss: 0.957166\n",
      "Train Epoch: 6 [1920/3192 (60%)]\tLoss: 0.887349\n",
      "Train Epoch: 6 [2560/3192 (80%)]\tLoss: 1.044605\n",
      "\n",
      "Test set: Average loss: 0.3567, Accuracy: 9222/10000 (92%)\n",
      "\n",
      "Train Epoch: 7 [0/3192 (0%)]\tLoss: 0.576865\n",
      "Train Epoch: 7 [640/3192 (20%)]\tLoss: 0.681432\n",
      "Train Epoch: 7 [1280/3192 (40%)]\tLoss: 0.814031\n",
      "Train Epoch: 7 [1920/3192 (60%)]\tLoss: 0.535575\n",
      "Train Epoch: 7 [2560/3192 (80%)]\tLoss: 0.820425\n",
      "\n",
      "Test set: Average loss: 0.3395, Accuracy: 9258/10000 (93%)\n",
      "\n",
      "Train Epoch: 8 [0/3192 (0%)]\tLoss: 0.607730\n",
      "Train Epoch: 8 [640/3192 (20%)]\tLoss: 0.605498\n",
      "Train Epoch: 8 [1280/3192 (40%)]\tLoss: 0.552950\n",
      "Train Epoch: 8 [1920/3192 (60%)]\tLoss: 0.716301\n",
      "Train Epoch: 8 [2560/3192 (80%)]\tLoss: 0.662081\n",
      "\n",
      "Test set: Average loss: 0.3077, Accuracy: 9290/10000 (93%)\n",
      "\n",
      "Train Epoch: 9 [0/3192 (0%)]\tLoss: 0.506873\n",
      "Train Epoch: 9 [640/3192 (20%)]\tLoss: 0.642674\n",
      "Train Epoch: 9 [1280/3192 (40%)]\tLoss: 0.770800\n",
      "Train Epoch: 9 [1920/3192 (60%)]\tLoss: 0.718413\n",
      "Train Epoch: 9 [2560/3192 (80%)]\tLoss: 0.679053\n",
      "\n",
      "Test set: Average loss: 0.3022, Accuracy: 9324/10000 (93%)\n",
      "\n",
      "[117.27272415161133, 94.81010401248932, 63.70710164308548, 49.71251541376114, 43.02527278661728, 39.37781175971031, 35.73263072967529, 33.472366720438, 30.76134005188942]\n"
     ]
    },
    {
     "data": {
      "image/png": "[encoded data removed]",
      "text/plain": [
       "<matplotlib.figure.Figure at 0x114cd7a90>"
      ]
     },
     "metadata": {},
     "output_type": "display_data"
    }
   ],
   "source": [
    "for prob in [0.05, 0.1, 0.15, 0.2]:\n",
    "    (train_dataset_loader, valid_loader) = get_loaders(prob)\n",
    "    print(\"Training with {} probability of unlabelled samples\".format(prob))\n",
    "    model = Net()#pickle.load(open(\"model.p\", \"rb\"))\n",
    "    optimizer = optim.SGD(model.parameters(), lr=0.01, momentum=0.8)\n",
    "    train_errors=[]\n",
    "    test_errors=[]\n",
    "    for epoch in range(1, 10):\n",
    "        train_errors.append(train(epoch, train_dataset_loader,train_errors))\n",
    "        test_errors.append(test(epoch, valid_loader,test_errors))\n",
    "    print(train_errors)\n",
    "    plot(train_errors, test_errors, 'Universum with {} prob'.format(prob))"
   ]
  },
  {
   "cell_type": "code",
   "execution_count": 75,
   "metadata": {
    "collapsed": false
   },
   "outputs": [],
   "source": [
    "def plot(train_errors, test_errors, title):\n",
    "    import matplotlib.pyplot as plt\n",
    "    import numpy as np\n",
    "    plt.plot(np.arange(len(train_errors)),train_errors,label=\"Training errors\")\n",
    "    plt.plot(np.arange(len(train_errors)),test_errors,label=\"Training errors\")\n",
    "    plt.xlabel('Epoch size')\n",
    "    legend = plt.legend(loc='upper center', shadow=True)\n",
    "    plt.ylabel('Loss Value')\n",
    "    plt.title(title)\n",
    "    plt.show()\n"
   ]
  },
  {
   "cell_type": "markdown",
   "metadata": {
    "deletable": true,
    "editable": true
   },
   "source": [
    "# Create Sample Submission"
   ]
  },
  {
   "cell_type": "code",
   "execution_count": null,
   "metadata": {
    "collapsed": false,
    "deletable": true,
    "editable": true
   },
   "outputs": [],
   "source": [
    "testset = pickle.load(open(\"../data/kaggle/test.p\", \"rb\"))"
   ]
  },
  {
   "cell_type": "code",
   "execution_count": null,
   "metadata": {
    "collapsed": false,
    "deletable": true,
    "editable": true
   },
   "outputs": [],
   "source": []
  },
  {
   "cell_type": "code",
   "execution_count": null,
   "metadata": {
    "collapsed": false,
    "deletable": true,
    "editable": true
   },
   "outputs": [],
   "source": [
    "test_loader = torch.utils.data.DataLoader(testset,batch_size=64, shuffle=False)"
   ]
  },
  {
   "cell_type": "markdown",
   "metadata": {
    "deletable": true,
    "editable": true
   },
   "source": [
    "## Test Accuuracy"
   ]
  },
  {
   "cell_type": "code",
   "execution_count": null,
   "metadata": {
    "collapsed": false,
    "deletable": true,
    "editable": true
   },
   "outputs": [],
   "source": [
    "test(1, test_loader)"
   ]
  },
  {
   "cell_type": "code",
   "execution_count": null,
   "metadata": {
    "collapsed": false,
    "deletable": true,
    "editable": true
   },
   "outputs": [],
   "source": [
    "label_predict = np.array([])\n",
    "model.eval()\n",
    "for data, target in test_loader:\n",
    "    data, target = Variable(data, volatile=True), Variable(target)\n",
    "    output = model(data)\n",
    "    temp = output.data.max(1)[1].numpy().reshape(-1)\n",
    "    label_predict = np.concatenate((label_predict, temp))"
   ]
  },
  {
   "cell_type": "code",
   "execution_count": null,
   "metadata": {
    "collapsed": false,
    "deletable": true,
    "editable": true
   },
   "outputs": [],
   "source": [
    "label_predict"
   ]
  },
  {
   "cell_type": "code",
   "execution_count": null,
   "metadata": {
    "collapsed": false,
    "deletable": true,
    "editable": true
   },
   "outputs": [],
   "source": [
    "import pandas as pd\n",
    "predict_label = pd.DataFrame(label_predict, columns=['label'], dtype=int)\n",
    "predict_label.reset_index(inplace=True)\n",
    "predict_label.rename(columns={'index': 'ID'}, inplace=True)"
   ]
  },
  {
   "cell_type": "code",
   "execution_count": null,
   "metadata": {
    "collapsed": false,
    "deletable": true,
    "editable": true
   },
   "outputs": [],
   "source": [
    "predict_label.head()"
   ]
  },
  {
   "cell_type": "code",
   "execution_count": null,
   "metadata": {
    "collapsed": false,
    "deletable": true,
    "editable": true
   },
   "outputs": [],
   "source": [
    "predict_label.to_csv('../data/kaggle/sample_submission.csv', index=False)\n"
   ]
  },
  {
   "cell_type": "code",
   "execution_count": null,
   "metadata": {
    "collapsed": true,
    "deletable": true,
    "editable": true
   },
   "outputs": [],
   "source": [
    "def random_gaussian_noise(npimg):\n",
    "    h, w = npimg.shape\n",
    "    mu, sigma = 0, 0.1\n",
    "    s = np.random.normal(mu, sigma, h * w)\n",
    "    s = s.reshape((h,w))\n",
    "    return npimg + s"
   ]
  },
  {
   "cell_type": "code",
   "execution_count": null,
   "metadata": {
    "collapsed": true
   },
   "outputs": [],
   "source": []
  }
 ],
 "metadata": {
  "anaconda-cloud": {},
  "kernelspec": {
   "display_name": "Python [conda env:tensorflow]",
   "language": "python",
   "name": "conda-env-tensorflow-py"
  },
  "language_info": {
   "codemirror_mode": {
    "name": "ipython",
    "version": 3
   },
   "file_extension": ".py",
   "mimetype": "text/x-python",
   "name": "python",
   "nbconvert_exporter": "python",
   "pygments_lexer": "ipython3",
   "version": "3.5.2"
  }
 },
 "nbformat": 4,
 "nbformat_minor": 2
}

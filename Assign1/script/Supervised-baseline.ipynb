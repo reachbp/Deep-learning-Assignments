{
 "cells": [
  {
   "cell_type": "code",
   "execution_count": 40,
   "metadata": {
    "collapsed": true
   },
   "outputs": [],
   "source": [
    "from __future__ import print_function\n",
    "import pickle \n",
    "import numpy as np\n",
    "import argparse\n",
    "import torch\n",
    "import torch.nn as nn\n",
    "import torch.nn.functional as F\n",
    "import torch.optim as optim\n",
    "from torchvision import datasets, transforms\n",
    "from torch.autograd import Variable"
   ]
  },
  {
   "cell_type": "markdown",
   "metadata": {},
   "source": [
    "# Split Data"
   ]
  },
  {
   "cell_type": "code",
   "execution_count": 41,
   "metadata": {
    "collapsed": true
   },
   "outputs": [],
   "source": [
    "transform=transforms.Compose([transforms.ToTensor(),\n",
    "                              transforms.Normalize((0.1307,), (0.3081,))\n",
    "                             ])"
   ]
  },
  {
   "cell_type": "markdown",
   "metadata": {},
   "source": [
    "# Train Model"
   ]
  },
  {
   "cell_type": "code",
   "execution_count": 17,
   "metadata": {
    "collapsed": false
   },
   "outputs": [],
   "source": [
    "# train_loader = torch.utils.data.DataLoader(trainset_new, batch_size=64, shuffle=True)\n",
    "# valid_loader = torch.utils.data.DataLoader(validset, batch_size=64, shuffle=True)"
   ]
  },
  {
   "cell_type": "code",
   "execution_count": 42,
   "metadata": {
    "collapsed": false
   },
   "outputs": [],
   "source": [
    "trainset_imoprt = pickle.load(open(\"../data/kaggle/train_labeled.p\", \"rb\"))\n",
    "validset_import = pickle.load(open(\"../data/kaggle/validation.p\", \"rb\"))"
   ]
  },
  {
   "cell_type": "code",
   "execution_count": 43,
   "metadata": {
    "collapsed": true
   },
   "outputs": [],
   "source": [
    "train_loader = torch.utils.data.DataLoader(trainset_imoprt, batch_size=64, shuffle=True)\n",
    "valid_loader = torch.utils.data.DataLoader(validset_import, batch_size=64, shuffle=True)"
   ]
  },
  {
   "cell_type": "code",
   "execution_count": 48,
   "metadata": {
    "collapsed": true
   },
   "outputs": [],
   "source": [
    "class Net(nn.Module):\n",
    "    def __init__(self):\n",
    "        super(Net, self).__init__()\n",
    "        self.conv1 = nn.Conv2d(1, 10, kernel_size=5)\n",
    "        self.conv2 = nn.Conv2d(10, 20, kernel_size=5)\n",
    "        self.conv2_drop = nn.Dropout2d(0.3)\n",
    "        self.fc1 = nn.Linear(320, 50)\n",
    "        self.fc2 = nn.Linear(50, 10)\n",
    "\n",
    "    def forward(self, x):\n",
    "        x = F.relu(F.max_pool2d(self.conv1(x), 2))\n",
    "        x = F.relu(F.max_pool2d(self.conv2_drop(self.conv2(x)), 2))\n",
    "        x = x.view(-1, 320)\n",
    "        x = F.relu(self.fc1(x))\n",
    "        x = F.dropout(x, training=self.training)\n",
    "        x = F.relu(self.fc2(x))\n",
    "        return F.log_softmax(x)\n",
    "\n",
    "model = Net()"
   ]
  },
  {
   "cell_type": "code",
   "execution_count": 49,
   "metadata": {
    "collapsed": false
   },
   "outputs": [],
   "source": [
    "optimizer = optim.SGD(model.parameters(), lr=0.01, momentum=0.8)"
   ]
  },
  {
   "cell_type": "code",
   "execution_count": 50,
   "metadata": {
    "collapsed": false
   },
   "outputs": [],
   "source": [
    "# CPU only training\n",
    "def train(epoch):\n",
    "    model.train()\n",
    "    for batch_idx, (data, target) in enumerate(train_loader):\n",
    "\n",
    "        data, target = Variable(data), Variable(target)\n",
    "        optimizer.zero_grad()\n",
    "        output = model(data)\n",
    "        loss = F.nll_loss(output, target)\n",
    "        loss.backward()\n",
    "        optimizer.step()\n",
    "        if batch_idx % 10 == 0:\n",
    "            print('Train Epoch: {} [{}/{} ({:.0f}%)]\\tLoss: {:.6f}'.format(\n",
    "                epoch, batch_idx * len(data), len(train_loader.dataset),\n",
    "                100. * batch_idx / len(train_loader), loss.data[0]))\n",
    "\n",
    "def test(epoch, valid_loader):\n",
    "    model.eval()\n",
    "    test_loss = 0\n",
    "    correct = 0\n",
    "    for data, target in valid_loader:\n",
    "\n",
    "        data, target = Variable(data, volatile=True), Variable(target)\n",
    "        output = model(data)\n",
    "        test_loss += F.nll_loss(output, target).data[0]\n",
    "        pred = output.data.max(1)[1] # get the index of the max log-probability\n",
    "        correct += pred.eq(target.data).cpu().sum()\n",
    "\n",
    "    test_loss /= len(valid_loader) # loss function already averages over batch size\n",
    "    print('\\nTest set: Average loss: {:.4f}, Accuracy: {}/{} ({:.0f}%)\\n'.format(\n",
    "        test_loss, correct, len(valid_loader.dataset),\n",
    "        100. * correct / len(valid_loader.dataset)))"
   ]
  },
  {
   "cell_type": "code",
   "execution_count": 51,
   "metadata": {
    "collapsed": false,
    "scrolled": false
   },
   "outputs": [
    {
     "name": "stdout",
     "output_type": "stream",
     "text": [
      "Train Epoch: 1 [0/3000 (0%)]\tLoss: 2.299830\n",
      "Train Epoch: 1 [640/3000 (21%)]\tLoss: 2.296133\n",
      "Train Epoch: 1 [1280/3000 (43%)]\tLoss: 2.300455\n",
      "Train Epoch: 1 [1920/3000 (64%)]\tLoss: 2.296795\n",
      "Train Epoch: 1 [2560/3000 (85%)]\tLoss: 2.278701\n",
      "\n",
      "Test set: Average loss: 2.2544, Accuracy: 3264/10000 (33%)\n",
      "\n",
      "Train Epoch: 2 [0/3000 (0%)]\tLoss: 2.249753\n",
      "Train Epoch: 2 [640/3000 (21%)]\tLoss: 2.240208\n",
      "Train Epoch: 2 [1280/3000 (43%)]\tLoss: 2.230728\n",
      "Train Epoch: 2 [1920/3000 (64%)]\tLoss: 2.052393\n",
      "Train Epoch: 2 [2560/3000 (85%)]\tLoss: 2.059448\n",
      "\n",
      "Test set: Average loss: 1.9747, Accuracy: 3946/10000 (39%)\n",
      "\n",
      "Train Epoch: 3 [0/3000 (0%)]\tLoss: 2.086519\n",
      "Train Epoch: 3 [640/3000 (21%)]\tLoss: 1.792334\n",
      "Train Epoch: 3 [1280/3000 (43%)]\tLoss: 1.634648\n",
      "Train Epoch: 3 [1920/3000 (64%)]\tLoss: 1.703681\n",
      "Train Epoch: 3 [2560/3000 (85%)]\tLoss: 1.300854\n",
      "\n",
      "Test set: Average loss: 1.0068, Accuracy: 7291/10000 (73%)\n",
      "\n",
      "Train Epoch: 4 [0/3000 (0%)]\tLoss: 1.368964\n",
      "Train Epoch: 4 [640/3000 (21%)]\tLoss: 1.424469\n",
      "Train Epoch: 4 [1280/3000 (43%)]\tLoss: 0.844873\n",
      "Train Epoch: 4 [1920/3000 (64%)]\tLoss: 1.124257\n",
      "Train Epoch: 4 [2560/3000 (85%)]\tLoss: 1.027537\n",
      "\n",
      "Test set: Average loss: 0.6410, Accuracy: 8331/10000 (83%)\n",
      "\n",
      "Train Epoch: 5 [0/3000 (0%)]\tLoss: 0.955417\n",
      "Train Epoch: 5 [640/3000 (21%)]\tLoss: 0.753993\n",
      "Train Epoch: 5 [1280/3000 (43%)]\tLoss: 0.604131\n",
      "Train Epoch: 5 [1920/3000 (64%)]\tLoss: 0.804326\n",
      "Train Epoch: 5 [2560/3000 (85%)]\tLoss: 0.712096\n",
      "\n",
      "Test set: Average loss: 0.3316, Accuracy: 9085/10000 (91%)\n",
      "\n",
      "Train Epoch: 6 [0/3000 (0%)]\tLoss: 0.545871\n",
      "Train Epoch: 6 [640/3000 (21%)]\tLoss: 0.365126\n",
      "Train Epoch: 6 [1280/3000 (43%)]\tLoss: 0.464639\n",
      "Train Epoch: 6 [1920/3000 (64%)]\tLoss: 0.659846\n",
      "Train Epoch: 6 [2560/3000 (85%)]\tLoss: 0.575584\n",
      "\n",
      "Test set: Average loss: 0.2765, Accuracy: 9266/10000 (93%)\n",
      "\n",
      "Train Epoch: 7 [0/3000 (0%)]\tLoss: 0.472664\n",
      "Train Epoch: 7 [640/3000 (21%)]\tLoss: 0.384072\n",
      "Train Epoch: 7 [1280/3000 (43%)]\tLoss: 0.312674\n",
      "Train Epoch: 7 [1920/3000 (64%)]\tLoss: 0.529137\n",
      "Train Epoch: 7 [2560/3000 (85%)]\tLoss: 0.428889\n",
      "\n",
      "Test set: Average loss: 0.2295, Accuracy: 9339/10000 (93%)\n",
      "\n",
      "Train Epoch: 8 [0/3000 (0%)]\tLoss: 0.393636\n",
      "Train Epoch: 8 [640/3000 (21%)]\tLoss: 0.304578\n",
      "Train Epoch: 8 [1280/3000 (43%)]\tLoss: 0.272337\n",
      "Train Epoch: 8 [1920/3000 (64%)]\tLoss: 0.541573\n",
      "Train Epoch: 8 [2560/3000 (85%)]\tLoss: 0.272067\n",
      "\n",
      "Test set: Average loss: 0.2070, Accuracy: 9393/10000 (94%)\n",
      "\n",
      "Train Epoch: 9 [0/3000 (0%)]\tLoss: 0.286450\n",
      "Train Epoch: 9 [640/3000 (21%)]\tLoss: 0.528987\n",
      "Train Epoch: 9 [1280/3000 (43%)]\tLoss: 0.428223\n",
      "Train Epoch: 9 [1920/3000 (64%)]\tLoss: 0.414125\n",
      "Train Epoch: 9 [2560/3000 (85%)]\tLoss: 0.504165\n",
      "\n",
      "Test set: Average loss: 0.2016, Accuracy: 9420/10000 (94%)\n",
      "\n",
      "Train Epoch: 10 [0/3000 (0%)]\tLoss: 0.164460\n",
      "Train Epoch: 10 [640/3000 (21%)]\tLoss: 0.405055\n",
      "Train Epoch: 10 [1280/3000 (43%)]\tLoss: 0.365194\n",
      "Train Epoch: 10 [1920/3000 (64%)]\tLoss: 0.195986\n",
      "Train Epoch: 10 [2560/3000 (85%)]\tLoss: 0.308208\n",
      "\n",
      "Test set: Average loss: 0.1953, Accuracy: 9428/10000 (94%)\n",
      "\n",
      "Train Epoch: 11 [0/3000 (0%)]\tLoss: 0.452937\n",
      "Train Epoch: 11 [640/3000 (21%)]\tLoss: 0.634309\n",
      "Train Epoch: 11 [1280/3000 (43%)]\tLoss: 0.239812\n",
      "Train Epoch: 11 [1920/3000 (64%)]\tLoss: 0.195458\n",
      "Train Epoch: 11 [2560/3000 (85%)]\tLoss: 0.419313\n",
      "\n",
      "Test set: Average loss: 0.1764, Accuracy: 9478/10000 (95%)\n",
      "\n",
      "Train Epoch: 12 [0/3000 (0%)]\tLoss: 0.445460\n",
      "Train Epoch: 12 [640/3000 (21%)]\tLoss: 0.259528\n",
      "Train Epoch: 12 [1280/3000 (43%)]\tLoss: 0.257785\n",
      "Train Epoch: 12 [1920/3000 (64%)]\tLoss: 0.181325\n",
      "Train Epoch: 12 [2560/3000 (85%)]\tLoss: 0.260531\n",
      "\n",
      "Test set: Average loss: 0.1708, Accuracy: 9472/10000 (95%)\n",
      "\n",
      "Train Epoch: 13 [0/3000 (0%)]\tLoss: 0.273802\n",
      "Train Epoch: 13 [640/3000 (21%)]\tLoss: 0.379411\n",
      "Train Epoch: 13 [1280/3000 (43%)]\tLoss: 0.208396\n",
      "Train Epoch: 13 [1920/3000 (64%)]\tLoss: 0.212150\n",
      "Train Epoch: 13 [2560/3000 (85%)]\tLoss: 0.192286\n",
      "\n",
      "Test set: Average loss: 0.1731, Accuracy: 9479/10000 (95%)\n",
      "\n",
      "Train Epoch: 14 [0/3000 (0%)]\tLoss: 0.393877\n",
      "Train Epoch: 14 [640/3000 (21%)]\tLoss: 0.330523\n",
      "Train Epoch: 14 [1280/3000 (43%)]\tLoss: 0.388530\n",
      "Train Epoch: 14 [1920/3000 (64%)]\tLoss: 0.424791\n",
      "Train Epoch: 14 [2560/3000 (85%)]\tLoss: 0.185659\n",
      "\n",
      "Test set: Average loss: 0.1534, Accuracy: 9547/10000 (95%)\n",
      "\n",
      "Train Epoch: 15 [0/3000 (0%)]\tLoss: 0.103905\n",
      "Train Epoch: 15 [640/3000 (21%)]\tLoss: 0.203637\n",
      "Train Epoch: 15 [1280/3000 (43%)]\tLoss: 0.161641\n",
      "Train Epoch: 15 [1920/3000 (64%)]\tLoss: 0.154206\n",
      "Train Epoch: 15 [2560/3000 (85%)]\tLoss: 0.357494\n",
      "\n",
      "Test set: Average loss: 0.1640, Accuracy: 9511/10000 (95%)\n",
      "\n",
      "Train Epoch: 16 [0/3000 (0%)]\tLoss: 0.314654\n",
      "Train Epoch: 16 [640/3000 (21%)]\tLoss: 0.217799\n",
      "Train Epoch: 16 [1280/3000 (43%)]\tLoss: 0.250044\n",
      "Train Epoch: 16 [1920/3000 (64%)]\tLoss: 0.179905\n",
      "Train Epoch: 16 [2560/3000 (85%)]\tLoss: 0.353623\n",
      "\n",
      "Test set: Average loss: 0.1742, Accuracy: 9472/10000 (95%)\n",
      "\n",
      "Train Epoch: 17 [0/3000 (0%)]\tLoss: 0.187199\n",
      "Train Epoch: 17 [640/3000 (21%)]\tLoss: 0.285588\n",
      "Train Epoch: 17 [1280/3000 (43%)]\tLoss: 0.126824\n",
      "Train Epoch: 17 [1920/3000 (64%)]\tLoss: 0.196149\n",
      "Train Epoch: 17 [2560/3000 (85%)]\tLoss: 0.439862\n",
      "\n",
      "Test set: Average loss: 0.1509, Accuracy: 9562/10000 (96%)\n",
      "\n",
      "Train Epoch: 18 [0/3000 (0%)]\tLoss: 0.303689\n",
      "Train Epoch: 18 [640/3000 (21%)]\tLoss: 0.530208\n",
      "Train Epoch: 18 [1280/3000 (43%)]\tLoss: 0.266196\n",
      "Train Epoch: 18 [1920/3000 (64%)]\tLoss: 0.270965\n",
      "Train Epoch: 18 [2560/3000 (85%)]\tLoss: 0.170607\n",
      "\n",
      "Test set: Average loss: 0.1460, Accuracy: 9591/10000 (96%)\n",
      "\n",
      "Train Epoch: 19 [0/3000 (0%)]\tLoss: 0.187081\n",
      "Train Epoch: 19 [640/3000 (21%)]\tLoss: 0.129638\n",
      "Train Epoch: 19 [1280/3000 (43%)]\tLoss: 0.139321\n",
      "Train Epoch: 19 [1920/3000 (64%)]\tLoss: 0.140593\n",
      "Train Epoch: 19 [2560/3000 (85%)]\tLoss: 0.201620\n",
      "\n",
      "Test set: Average loss: 0.1477, Accuracy: 9552/10000 (96%)\n",
      "\n"
     ]
    }
   ],
   "source": [
    "for epoch in range(1, 20):\n",
    "    train(epoch)\n",
    "    test(epoch, valid_loader)"
   ]
  },
  {
   "cell_type": "markdown",
   "metadata": {},
   "source": [
    "# Create Sample Submission"
   ]
  },
  {
   "cell_type": "code",
   "execution_count": 59,
   "metadata": {
    "collapsed": false
   },
   "outputs": [],
   "source": [
    "testset = pickle.load(open(\"../data/kaggle/test.p\", \"rb\"))"
   ]
  },
  {
   "cell_type": "code",
   "execution_count": null,
   "metadata": {
    "collapsed": false
   },
   "outputs": [],
   "source": []
  },
  {
   "cell_type": "code",
   "execution_count": 60,
   "metadata": {
    "collapsed": false
   },
   "outputs": [],
   "source": [
    "test_loader = torch.utils.data.DataLoader(testset,batch_size=64, shuffle=False)"
   ]
  },
  {
   "cell_type": "markdown",
   "metadata": {},
   "source": [
    "## Test Accuuracy"
   ]
  },
  {
   "cell_type": "code",
   "execution_count": 61,
   "metadata": {
    "collapsed": false
   },
   "outputs": [
    {
     "name": "stdout",
     "output_type": "stream",
     "text": [
      "\n",
      "Test set: Average loss: 0.1253, Accuracy: 9586/10000 (96%)\n",
      "\n"
     ]
    }
   ],
   "source": [
    "test(1, test_loader)"
   ]
  },
  {
   "cell_type": "code",
   "execution_count": 62,
   "metadata": {
    "collapsed": false
   },
   "outputs": [],
   "source": [
    "label_predict = np.array([])\n",
    "model.eval()\n",
    "for data, target in test_loader:\n",
    "    data, target = Variable(data, volatile=True), Variable(target)\n",
    "    output = model(data)\n",
    "    temp = output.data.max(1)[1].numpy().reshape(-1)\n",
    "    label_predict = np.concatenate((label_predict, temp))"
   ]
  },
  {
   "cell_type": "code",
   "execution_count": 63,
   "metadata": {
    "collapsed": false
   },
   "outputs": [
    {
     "data": {
      "text/plain": [
       "array([ 7.,  2.,  1., ...,  4.,  5.,  6.])"
      ]
     },
     "execution_count": 63,
     "metadata": {},
     "output_type": "execute_result"
    }
   ],
   "source": [
    "label_predict"
   ]
  },
  {
   "cell_type": "code",
   "execution_count": 64,
   "metadata": {
    "collapsed": true
   },
   "outputs": [],
   "source": [
    "predict_label = pd.DataFrame(label_predict, columns=['label'], dtype=int)\n",
    "predict_label.reset_index(inplace=True)\n",
    "predict_label.rename(columns={'index': 'ID'}, inplace=True)"
   ]
  },
  {
   "cell_type": "code",
   "execution_count": 65,
   "metadata": {
    "collapsed": false
   },
   "outputs": [
    {
     "data": {
      "text/html": [
       "<div>\n",
       "<table border=\"1\" class=\"dataframe\">\n",
       "  <thead>\n",
       "    <tr style=\"text-align: right;\">\n",
       "      <th></th>\n",
       "      <th>ID</th>\n",
       "      <th>label</th>\n",
       "    </tr>\n",
       "  </thead>\n",
       "  <tbody>\n",
       "    <tr>\n",
       "      <th>0</th>\n",
       "      <td>0</td>\n",
       "      <td>7</td>\n",
       "    </tr>\n",
       "    <tr>\n",
       "      <th>1</th>\n",
       "      <td>1</td>\n",
       "      <td>2</td>\n",
       "    </tr>\n",
       "    <tr>\n",
       "      <th>2</th>\n",
       "      <td>2</td>\n",
       "      <td>1</td>\n",
       "    </tr>\n",
       "    <tr>\n",
       "      <th>3</th>\n",
       "      <td>3</td>\n",
       "      <td>0</td>\n",
       "    </tr>\n",
       "    <tr>\n",
       "      <th>4</th>\n",
       "      <td>4</td>\n",
       "      <td>4</td>\n",
       "    </tr>\n",
       "  </tbody>\n",
       "</table>\n",
       "</div>"
      ],
      "text/plain": [
       "   ID  label\n",
       "0   0      7\n",
       "1   1      2\n",
       "2   2      1\n",
       "3   3      0\n",
       "4   4      4"
      ]
     },
     "execution_count": 65,
     "metadata": {},
     "output_type": "execute_result"
    }
   ],
   "source": [
    "predict_label.head()"
   ]
  },
  {
   "cell_type": "code",
   "execution_count": 68,
   "metadata": {
    "collapsed": false
   },
   "outputs": [],
   "source": [
    "predict_label.to_csv('../data/kaggle/sample_submission.csv', index=False)\n"
   ]
  },
  {
   "cell_type": "code",
   "execution_count": null,
   "metadata": {
    "collapsed": true
   },
   "outputs": [],
   "source": []
  }
 ],
 "metadata": {
  "anaconda-cloud": {},
  "kernelspec": {
   "display_name": "Python [conda env:tensorflow]",
   "language": "python",
   "name": "conda-env-tensorflow-py"
  },
  "language_info": {
   "codemirror_mode": {
    "name": "ipython",
    "version": 3
   },
   "file_extension": ".py",
   "mimetype": "text/x-python",
   "name": "python",
   "nbconvert_exporter": "python",
   "pygments_lexer": "ipython3",
   "version": "3.5.2"
  }
 },
 "nbformat": 4,
 "nbformat_minor": 2
}

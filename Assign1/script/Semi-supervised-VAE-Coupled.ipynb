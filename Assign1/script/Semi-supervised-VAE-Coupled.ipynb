{
 "cells": [
  {
   "cell_type": "code",
   "execution_count": 1,
   "metadata": {
    "collapsed": true
   },
   "outputs": [],
   "source": [
    "from __future__ import print_function\n",
    "import pickle \n",
    "import numpy as np\n",
    "import argparse\n",
    "import torch\n",
    "import torch.nn as nn\n",
    "import torch.nn.functional as F\n",
    "import torch.optim as optim\n",
    "from torchvision import datasets, transforms\n",
    "from torch.autograd import Variable"
   ]
  },
  {
   "cell_type": "code",
   "execution_count": 2,
   "metadata": {
    "collapsed": true
   },
   "outputs": [],
   "source": [
    "mse = torch.nn.MSELoss()"
   ]
  },
  {
   "cell_type": "markdown",
   "metadata": {},
   "source": [
    "# Split Data"
   ]
  },
  {
   "cell_type": "markdown",
   "metadata": {},
   "source": [
    "# Train Model"
   ]
  },
  {
   "cell_type": "code",
   "execution_count": 3,
   "metadata": {
    "collapsed": false
   },
   "outputs": [],
   "source": [
    "# train_loader = torch.utils.data.DataLoader(trainset_new, batch_size=64, shuffle=True)\n",
    "# valid_loader = torch.utils.data.DataLoader(validset, batch_size=64, shuffle=True)"
   ]
  },
  {
   "cell_type": "code",
   "execution_count": 4,
   "metadata": {
    "collapsed": false
   },
   "outputs": [
    {
     "name": "stdout",
     "output_type": "stream",
     "text": [
      "Files already downloaded\n",
      "3000\n",
      "750\n"
     ]
    }
   ],
   "source": [
    "trainset_imoprt = pickle.load(open(\"../data/kaggle/train_labeled.p\", \"rb\"))\n",
    "validset_import = pickle.load(open(\"../data/kaggle/validation.p\", \"rb\"))"
   ]
  },
  {
   "cell_type": "code",
   "execution_count": 5,
   "metadata": {
    "collapsed": false
   },
   "outputs": [],
   "source": [
    "train_loader = torch.utils.data.DataLoader(trainset_imoprt, batch_size=64, shuffle=True)\n",
    "valid_loader = torch.utils.data.DataLoader(validset_import, batch_size=64, shuffle=True)"
   ]
  },
  {
   "cell_type": "code",
   "execution_count": 6,
   "metadata": {
    "collapsed": false
   },
   "outputs": [],
   "source": [
    "class VAE(nn.Module):\n",
    "    def __init__(self):\n",
    "        super(VAE, self).__init__()\n",
    "        self.latent_vars = 10\n",
    "        self.fc11 = nn.Linear(784, 400)\n",
    "        self.fc12 = nn.Linear(400, 100)\n",
    "        self.fc21 = nn.Linear(100, 20)\n",
    "\n",
    "        self.fc3 = nn.Linear(10, 400)\n",
    "        self.fc4 = nn.Linear(400, 784)\n",
    "        self.relu = nn.ReLU()\n",
    "        self.sigmoid = nn.Sigmoid()\n",
    "\n",
    "    def encode(self, x):\n",
    "        \n",
    "        h1 = self.relu(self.fc11(x))\n",
    "        h2 = self.relu(self.fc12(h1))\n",
    "        \n",
    "        z = self.fc21(h2)\n",
    "        mu = z[:, 0:self.latent_vars]\n",
    "        log_sig = z[:, self.latent_vars:]\n",
    "        return mu, log_sig\n",
    "\n",
    "    def reparametrize(self, mu, logvar):\n",
    "        \n",
    "        eps = Variable(torch.randn(logvar.size()))\n",
    "\n",
    "        z = mu + torch.exp(logvar / 2) * eps\n",
    "\n",
    "        return z\n",
    "\n",
    "    def decode(self, z):\n",
    "        \n",
    "        h3 = self.relu(self.fc3(z))\n",
    "        return self.sigmoid(self.fc4(h3))\n",
    "\n",
    "    def forward(self, x):\n",
    "        mu, logvar = self.encode(x.view(-1, 784))\n",
    "        \n",
    "        z = self.reparametrize(mu, logvar)\n",
    "        return self.decode(z), mu, logvar\n",
    "\n",
    "\n"
   ]
  },
  {
   "cell_type": "code",
   "execution_count": 233,
   "metadata": {
    "collapsed": false
   },
   "outputs": [
    {
     "name": "stdout",
     "output_type": "stream",
     "text": [
      "(16, 2, 2)\n"
     ]
    }
   ],
   "source": [
    "### Adding convolution layers to VAE\n",
    "\n",
    "class ConvVAE(nn.Module):\n",
    "    def __init__(self):\n",
    "        super(ConvVAE, self).__init__()\n",
    "        self.latent_vars = 10\n",
    "        \n",
    "        self.fc11 = nn.Linear(64, 20)\n",
    "        self.fc12 = nn.Linear(128, 64)\n",
    "        \n",
    "        \n",
    "        self.conv1 = nn.Conv2d(1, 32, 3, 3, 1, 1, 1, 1)\n",
    "        self.conv2 = nn.Conv2d(32, 16, 3, 3, 1, 1, 1, 1)\n",
    "        self.conv3 = nn.Conv2d(16, 16, 3, 3, 1, 1, 1, 1)\n",
    "        \n",
    "    \n",
    "        \n",
    "        self.dconv1 = nn.ConvTranspose2d(16, 16, 3,3,2,2)\n",
    "        self.dconv2 = nn.ConvTranspose2d(16, 32, 3,3,2,2)\n",
    "        self.dconv3 = nn.ConvTranspose2d(32, 1, 3,3,2,2)\n",
    "        \n",
    "        self.dconv11 = nn.Conv2d(16, 16, kernel_size= 3)\n",
    "        self.dconv21 = nn.Conv2d(16, 32, kernel_size= 3)\n",
    "        self.dconv31 = nn.Conv2d(32, 1, kernel_size= 3)\n",
    "        \n",
    "        self.flat_dim = self.get_flat_dim()\n",
    "\n",
    "        self.h = self.flat_dim[0] *self.flat_dim[1] *self.flat_dim[2]\n",
    "        print(self.flat_dim)\n",
    "        self.bn1 = nn.BatchNorm2d(128)\n",
    "        self.bn2 = nn.BatchNorm2d(64)\n",
    "\n",
    "        self.fc3 = nn.Linear(10, self.h)\n",
    "        #self.fc4 = nn.Linear(400, 784)\n",
    "        \n",
    "        self.relu = nn.ReLU()\n",
    "        self.sigmoid = nn.Sigmoid()\n",
    "\n",
    "    def get_flat_dim(self):\n",
    "\n",
    "        x = Variable(torch.randn(64,1,28,28))\n",
    "        x = F.relu(self.conv1(x))\n",
    "        x = F.relu(self.conv2(x))\n",
    "        x = F.relu(self.conv3(x))\n",
    "\n",
    "        return(x.size()[1:])\n",
    "\n",
    "    def encode(self, x):\n",
    "        \n",
    "        x = self.relu(self.conv1(x))\n",
    "        #x = F.max_pool2d(x, 2)\n",
    "        x = self.relu(self.conv2(x))\n",
    "        x = self.relu(self.conv3(x))\n",
    "        #print(\"Size after encoding\", x.size())\n",
    "        x = x.view(-1, 16*2*2)\n",
    "        #print(x.size())\n",
    "        z = self.fc11(x)\n",
    "        mu = z[:, 0:self.latent_vars]\n",
    "        log_sig = z[:, self.latent_vars:]\n",
    "      \n",
    "        #print(mu.size(), log_sig.size())\n",
    "        return mu, log_sig\n",
    "\n",
    "    def reparametrize(self, mu, logvar):\n",
    "        eps = Variable(torch.randn(logvar.size()))\n",
    "        z = mu + torch.exp(logvar / 2) * eps\n",
    "        return z\n",
    "\n",
    "    def decode(self, x):\n",
    "        #print(\"Input size 0\", x.size())\n",
    "        x = F.relu(self.fc3(x))\n",
    "        #print(\"Checkpoint 0\", x.size())\n",
    "        x = x.view(-1,16, 2,2)\n",
    "        #print(\"Checkpoint 1\", x.size())\n",
    "        x = self.dconv1(x)\n",
    "        #print(\"Checkpoint 2\", x.size())\n",
    "        x = self.dconv2(x)\n",
    "        #print(\"Checkpoint 3\", x.size())\n",
    "        x = self.dconv3(x)\n",
    "        #print(x.size())\n",
    "        \n",
    "        return x #self.sigmoid(self.fc4(h3))\n",
    "\n",
    "    def forward(self, x):\n",
    "        mu, logvar = self.encode(x)\n",
    "        z = self.reparametrize(mu, logvar)\n",
    "        return self.decode(z), mu, logvar\n",
    "\n"
   ]
  },
  {
   "cell_type": "code",
   "execution_count": null,
   "metadata": {
    "collapsed": true
   },
   "outputs": [],
   "source": [
    "### Adding DenoisingAE\n",
    "\n",
    "class DenoiseAE(nn.Module):\n",
    "    def __init__(self):\n",
    "        super(ConvVAE, self).__init__()\n",
    "        self.latent_vars = 10\n",
    "        \n",
    "        self.fc11 = nn.Linear(64, 20)\n",
    "        self.fc12 = nn.Linear(128, 64)\n",
    "        \n",
    "        \n",
    "        self.conv1 = nn.Conv2d(1, 32, 3, 3, 1, 1, 1, 1)\n",
    "        self.conv2 = nn.Conv2d(32, 16, 3, 3, 1, 1, 1, 1)\n",
    "        self.conv3 = nn.Conv2d(16, 16, 3, 3, 1, 1, 1, 1)\n",
    "        \n",
    "    \n",
    "        \n",
    "        self.dconv1 = nn.ConvTranspose2d(16, 16, 3,3,2,2)\n",
    "        self.dconv2 = nn.ConvTranspose2d(16, 32, 3,3,2,2)\n",
    "        self.dconv3 = nn.ConvTranspose2d(32, 1, 3,3,2,2)\n",
    "        \n",
    "        self.dconv11 = nn.Conv2d(16, 16, kernel_size= 3)\n",
    "        self.dconv21 = nn.Conv2d(16, 32, kernel_size= 3)\n",
    "        self.dconv31 = nn.Conv2d(32, 1, kernel_size= 3)\n",
    "        \n",
    "        self.flat_dim = self.get_flat_dim()\n",
    "\n",
    "        self.h = self.flat_dim[0] *self.flat_dim[1] *self.flat_dim[2]\n",
    "        print(self.flat_dim)\n",
    "        self.bn1 = nn.BatchNorm2d(128)\n",
    "        self.bn2 = nn.BatchNorm2d(64)\n",
    "\n",
    "        self.fc3 = nn.Linear(10, self.h)\n",
    "        #self.fc4 = nn.Linear(400, 784)\n",
    "        \n",
    "        self.relu = nn.ReLU()\n",
    "        self.sigmoid = nn.Sigmoid()\n",
    "\n",
    "    def get_flat_dim(self):\n",
    "\n",
    "        x = Variable(torch.randn(64,1,28,28))\n",
    "        x = F.relu(self.conv1(x))\n",
    "        x = F.relu(self.conv2(x))\n",
    "        x = F.relu(self.conv3(x))\n",
    "\n",
    "        return(x.size()[1:])\n",
    "\n",
    "    def encode(self, x):\n",
    "        \n",
    "        x = self.relu(self.conv1(x))\n",
    "        #x = F.max_pool2d(x, 2)\n",
    "        x = self.relu(self.conv2(x))\n",
    "        x = self.relu(self.conv3(x))\n",
    "        #print(\"Size after encoding\", x.size())\n",
    "        x = x.view(-1, 16*2*2)\n",
    "        #print(x.size())\n",
    "        z = self.fc11(x)\n",
    "        mu = z[:, 0:self.latent_vars]\n",
    "        log_sig = z[:, self.latent_vars:]\n",
    "      \n",
    "        #print(mu.size(), log_sig.size())\n",
    "        return mu, log_sig\n",
    "\n",
    "    def reparametrize(self, mu, logvar):\n",
    "        eps = Variable(torch.randn(logvar.size()))\n",
    "        z = mu + torch.exp(logvar / 2) * eps\n",
    "        return z\n",
    "\n",
    "    def decode(self, x):\n",
    "        #print(\"Input size 0\", x.size())\n",
    "        x = F.relu(self.fc3(x))\n",
    "        #print(\"Checkpoint 0\", x.size())\n",
    "        x = x.view(-1,16, 2,2)\n",
    "        #print(\"Checkpoint 1\", x.size())\n",
    "        x = self.dconv1(x)\n",
    "        #print(\"Checkpoint 2\", x.size())\n",
    "        x = self.dconv2(x)\n",
    "        #print(\"Checkpoint 3\", x.size())\n",
    "        x = self.dconv3(x)\n",
    "        #print(x.size())\n",
    "        \n",
    "        return x #self.sigmoid(self.fc4(h3))\n",
    "\n",
    "    def forward(self, x):\n",
    "        mu, logvar = self.encode(x)\n",
    "        z = self.reparametrize(mu, logvar)\n",
    "        return self.decode(z), mu, logvar"
   ]
  },
  {
   "cell_type": "code",
   "execution_count": 234,
   "metadata": {
    "collapsed": false
   },
   "outputs": [],
   "source": [
    "reconstruction_function = nn.BCELoss()\n",
    "reconstruction_function.size_average = False\n",
    "\n",
    "\n",
    "def loss_function(recon_x, x, mu, logvar):\n",
    "    mean_squared =mse(X_hat, data)\n",
    "\n",
    "    # see Appendix B from VAE paper:\n",
    "    # Kingma and Welling. Auto-Encoding Variational Bayes. ICLR, 2014\n",
    "    # https://arxiv.org/abs/1312.6114\n",
    "    # 0.5 * sum(1 + log(sigma^2) - mu^2 - sigma^2)\n",
    "    KLD_element = mu.pow(2).add_(logvar.exp()).mul_(-1).add_(1).add_(logvar)\n",
    "    KLD = torch.sum(KLD_element).mul_(-0.5)\n",
    "\n",
    "    return mean_squared + KLD\n",
    "\n",
    "\n",
    "\n",
    "\n"
   ]
  },
  {
   "cell_type": "code",
   "execution_count": 243,
   "metadata": {
    "collapsed": false
   },
   "outputs": [
    {
     "name": "stdout",
     "output_type": "stream",
     "text": [
      "(16, 2, 2)\n"
     ]
    }
   ],
   "source": [
    "model = ConvVAE()\n",
    "optimizer = optim.Adam(model.parameters(), lr=0.0001)"
   ]
  },
  {
   "cell_type": "code",
   "execution_count": 244,
   "metadata": {
    "collapsed": false
   },
   "outputs": [],
   "source": [
    "# CPU only training\n",
    "def generate_train(epoch):\n",
    "    model.train()\n",
    "    train_loss = 0\n",
    "    classification_loss = 0\n",
    "    for batch_idx, (data, target) in enumerate(train_loader):\n",
    "        data, target = Variable(data), Variable(target)\n",
    "        optimizer.zero_grad()\n",
    "        x_new, mu, logvar = model(data)\n",
    "        kl_loss = 0.5 * torch.mean(torch.exp(logvar) + mu ** 2 - 1. - logvar)\n",
    "        recon_loss = mse(x_new, data) + kl_loss\n",
    "        output = F.log_softmax(mu)\n",
    "        class_loss = F.nll_loss(output, target)\n",
    "        loss = recon_loss + class_loss\n",
    "        loss.backward()\n",
    "\n",
    "        train_loss += loss.data[0]\n",
    "        classification_loss += class_loss.data[0]\n",
    "        optimizer.step()\n",
    "        #if batch_idx % 100 == 0:\n",
    "            #print('Train Epoch: {} [{}/{} ({:.0f}%)]\\tLoss: {:.6f}'.format(\n",
    "             #   epoch, batch_idx * len(data), len(train_loader.dataset),\n",
    "            #  100. * batch_idx / len(train_loader),\n",
    "        #    loss.data[0] / len(data)))\n",
    "\n",
    "    print('====> Epoch: {} Average loss: {:.4f}'.format(\n",
    "          epoch, classification_loss / len(train_loader.dataset)))\n",
    "\n",
    "    \n",
    "def generate_test(epoch, test_loader):\n",
    "    model.eval()\n",
    "    test_loss = 0\n",
    "    correct = 0\n",
    "    for data, target in test_loader:\n",
    "        data, target = Variable(data, volatile=True), Variable(target)\n",
    "        x_new, mu, logvar = model(data)\n",
    "        output = F.log_softmax(mu) \n",
    "        test_loss += F.nll_loss(output, target).data[0]\n",
    "        pred = output.data.max(1)[1] # get the index of the max log-probability\n",
    "        correct += pred.eq(target.data).cpu().sum()\n",
    "        \n",
    "\n",
    "    test_loss /= len(test_loader.dataset)\n",
    "    print('\\nTest set: Average loss: {:.4f}, Accuracy: {}/{} ({:.0f}%)\\n'.format(\n",
    "        test_loss, correct, len(test_loader.dataset),\n",
    "        100. * correct / len(test_loader.dataset)))\n",
    "\n",
    "\n"
   ]
  },
  {
   "cell_type": "code",
   "execution_count": null,
   "metadata": {
    "collapsed": false,
    "scrolled": false
   },
   "outputs": [
    {
     "name": "stdout",
     "output_type": "stream",
     "text": [
      "====> Epoch: 1 Average loss: 0.0360\n",
      "\n",
      "Test set: Average loss: 0.0360, Accuracy: 1622/10000 (16%)\n",
      "\n",
      "====> Epoch: 2 Average loss: 0.0358\n",
      "\n",
      "Test set: Average loss: 0.0358, Accuracy: 2321/10000 (23%)\n",
      "\n",
      "====> Epoch: 3 Average loss: 0.0355\n",
      "\n",
      "Test set: Average loss: 0.0354, Accuracy: 2959/10000 (30%)\n",
      "\n",
      "====> Epoch: 4 Average loss: 0.0350\n",
      "\n",
      "Test set: Average loss: 0.0347, Accuracy: 3624/10000 (36%)\n",
      "\n",
      "====> Epoch: 5 Average loss: 0.0339\n",
      "\n",
      "Test set: Average loss: 0.0333, Accuracy: 5165/10000 (52%)\n",
      "\n",
      "====> Epoch: 6 Average loss: 0.0321\n",
      "\n",
      "Test set: Average loss: 0.0311, Accuracy: 6017/10000 (60%)\n",
      "\n",
      "====> Epoch: 7 Average loss: 0.0295\n",
      "\n",
      "Test set: Average loss: 0.0283, Accuracy: 6328/10000 (63%)\n",
      "\n",
      "====> Epoch: 8 Average loss: 0.0265\n",
      "\n",
      "Test set: Average loss: 0.0254, Accuracy: 6778/10000 (68%)\n",
      "\n",
      "====> Epoch: 9 Average loss: 0.0239\n",
      "\n",
      "Test set: Average loss: 0.0232, Accuracy: 6964/10000 (70%)\n",
      "\n",
      "====> Epoch: 10 Average loss: 0.0220\n",
      "\n",
      "Test set: Average loss: 0.0218, Accuracy: 7107/10000 (71%)\n",
      "\n",
      "====> Epoch: 11 Average loss: 0.0208\n",
      "\n",
      "Test set: Average loss: 0.0208, Accuracy: 7319/10000 (73%)\n",
      "\n",
      "====> Epoch: 12 Average loss: 0.0199\n",
      "\n",
      "Test set: Average loss: 0.0201, Accuracy: 7487/10000 (75%)\n",
      "\n",
      "====> Epoch: 13 Average loss: 0.0192\n",
      "\n",
      "Test set: Average loss: 0.0195, Accuracy: 7638/10000 (76%)\n",
      "\n",
      "====> Epoch: 14 Average loss: 0.0186\n",
      "\n",
      "Test set: Average loss: 0.0189, Accuracy: 7763/10000 (78%)\n",
      "\n",
      "====> Epoch: 15 Average loss: 0.0181\n",
      "\n",
      "Test set: Average loss: 0.0184, Accuracy: 7867/10000 (79%)\n",
      "\n",
      "====> Epoch: 16 Average loss: 0.0176\n",
      "\n",
      "Test set: Average loss: 0.0180, Accuracy: 7968/10000 (80%)\n",
      "\n",
      "====> Epoch: 17 Average loss: 0.0172\n",
      "\n",
      "Test set: Average loss: 0.0176, Accuracy: 8017/10000 (80%)\n",
      "\n",
      "====> Epoch: 18 Average loss: 0.0168\n",
      "\n",
      "Test set: Average loss: 0.0172, Accuracy: 8081/10000 (81%)\n",
      "\n"
     ]
    }
   ],
   "source": [
    "#Generative phase\n",
    "for epoch in range(1, 50):\n",
    "    generate_train(epoch)\n",
    "    generate_test(epoch, valid_loader)"
   ]
  },
  {
   "cell_type": "code",
   "execution_count": 13,
   "metadata": {
    "collapsed": false
   },
   "outputs": [],
   "source": [
    "# Check generated images\n",
    "from  torchvision.utils import save_image\n",
    "for index, (data, target) in enumerate(train_loader):\n",
    "    data, target = Variable(data), Variable(target)\n",
    "    gen_data, mu, logvar = model(data)\n",
    "    gen_images = gen_data.view(-1, 1,28,28)\n",
    "    #print(data[0])\n",
    "    save_image(gen_images.data, 'images/gen{}.jpg'.format(index))\n"
   ]
  },
  {
   "cell_type": "code",
   "execution_count": null,
   "metadata": {
    "collapsed": true
   },
   "outputs": [],
   "source": [
    "# CPU only training\n",
    "optimizer = optim.SGD(model.parameters(), lr=0.005, momentum=0.8)\n",
    "def train(epoch):\n",
    "    classifier.train()\n",
    "    for batch_idx, (data, target) in enumerate(train_loader):\n",
    "\n",
    "        data, target = Variable(data), Variable(target)\n",
    "        gen_data, mu, logvar = model(data)\n",
    "        #Check reconstruction loss \n",
    "        recon_loss = reconstruction_function(gen_data, data)\n",
    "        #print(\"Reconstruction loss is\", recon_loss)\n",
    "        #print(\"Type of generated data\", type(gen_data))\n",
    "        \n",
    "        optimizer.zero_grad()\n",
    "        output = classifier(gen_data)\n",
    "        loss = F.nll_loss(output, target)\n",
    "        loss.backward()\n",
    "        optimizer.step()\n",
    "        if batch_idx % 10 == 0:\n",
    "            print('Train Epoch: {} [{}/{} ({:.0f}%)]\\tLoss: {:.6f}'.format(\n",
    "                epoch, batch_idx * len(data), len(train_loader.dataset),\n",
    "                100. * batch_idx / len(train_loader), loss.data[0]))\n",
    "\n",
    "def test(epoch, valid_loader):\n",
    "    classifier.eval()\n",
    "    test_loss = 0\n",
    "    correct = 0\n",
    "    for data, target in valid_loader:\n",
    "        data, target = Variable(data, volatile=True), Variable(target)\n",
    "        gen_data, mu, logvar = model(data)\n",
    "        output = classifier(gen_data)\n",
    "        test_loss += F.nll_loss(output, target).data[0]\n",
    "        pred = output.data.max(1)[1] # get the index of the max log-probability\n",
    "        correct += pred.eq(target.data).cpu().sum()\n",
    "\n",
    "    test_loss /= len(valid_loader) # loss function already averages over batch size\n",
    "    print('\\nTest set: Average loss: {:.4f}, Accuracy: {}/{} ({:.0f}%)\\n'.format(\n",
    "        test_loss, correct, len(valid_loader.dataset),\n",
    "        100. * correct / len(valid_loader.dataset)))\n",
    "    \n"
   ]
  },
  {
   "cell_type": "code",
   "execution_count": null,
   "metadata": {
    "collapsed": false
   },
   "outputs": [],
   "source": [
    "#Classification phase\n",
    "for epoch in range(1, 10):\n",
    "    train(epoch)\n",
    "    test(epoch, valid_loader)"
   ]
  },
  {
   "cell_type": "markdown",
   "metadata": {},
   "source": [
    "# Create Sample Submission"
   ]
  },
  {
   "cell_type": "code",
   "execution_count": null,
   "metadata": {
    "collapsed": false
   },
   "outputs": [],
   "source": [
    "testset = pickle.load(open(\"../data/kaggle/test.p\", \"rb\"))"
   ]
  },
  {
   "cell_type": "code",
   "execution_count": null,
   "metadata": {
    "collapsed": false
   },
   "outputs": [],
   "source": []
  },
  {
   "cell_type": "code",
   "execution_count": null,
   "metadata": {
    "collapsed": true
   },
   "outputs": [],
   "source": []
  },
  {
   "cell_type": "code",
   "execution_count": null,
   "metadata": {
    "collapsed": false
   },
   "outputs": [],
   "source": [
    "test_loader = torch.utils.data.DataLoader(testset,batch_size=64, shuffle=False)"
   ]
  },
  {
   "cell_type": "markdown",
   "metadata": {},
   "source": [
    "## Test Accuuracy"
   ]
  },
  {
   "cell_type": "code",
   "execution_count": null,
   "metadata": {
    "collapsed": false
   },
   "outputs": [],
   "source": [
    "test(1, test_loader)"
   ]
  },
  {
   "cell_type": "code",
   "execution_count": null,
   "metadata": {
    "collapsed": false
   },
   "outputs": [],
   "source": [
    "label_predict = np.array([])\n",
    "model.eval()\n",
    "for data, target in test_loader:\n",
    "    data, target = Variable(data, volatile=True), Variable(target)\n",
    "    output = model(data)\n",
    "    temp = output.data.max(1)[1].numpy().reshape(-1)\n",
    "    label_predict = np.concatenate((label_predict, temp))"
   ]
  },
  {
   "cell_type": "code",
   "execution_count": null,
   "metadata": {
    "collapsed": false
   },
   "outputs": [],
   "source": [
    "label_predict"
   ]
  },
  {
   "cell_type": "code",
   "execution_count": null,
   "metadata": {
    "collapsed": true
   },
   "outputs": [],
   "source": [
    "predict_label = pd.DataFrame(label_predict, columns=['label'], dtype=int)\n",
    "predict_label.reset_index(inplace=True)\n",
    "predict_label.rename(columns={'index': 'ID'}, inplace=True)"
   ]
  },
  {
   "cell_type": "code",
   "execution_count": null,
   "metadata": {
    "collapsed": false
   },
   "outputs": [],
   "source": [
    "predict_label.head()"
   ]
  },
  {
   "cell_type": "code",
   "execution_count": null,
   "metadata": {
    "collapsed": false
   },
   "outputs": [],
   "source": [
    "predict_label.to_csv('../data/kaggle/sample_submission.csv', index=False)\n"
   ]
  }
 ],
 "metadata": {
  "anaconda-cloud": {},
  "kernelspec": {
   "display_name": "Python [conda env:tensorflow]",
   "language": "python",
   "name": "conda-env-tensorflow-py"
  },
  "language_info": {
   "codemirror_mode": {
    "name": "ipython",
    "version": 3
   },
   "file_extension": ".py",
   "mimetype": "text/x-python",
   "name": "python",
   "nbconvert_exporter": "python",
   "pygments_lexer": "ipython3",
   "version": "3.5.2"
  }
 },
 "nbformat": 4,
 "nbformat_minor": 2
}
